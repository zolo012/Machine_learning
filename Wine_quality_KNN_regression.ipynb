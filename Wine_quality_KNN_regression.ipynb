{
  "nbformat": 4,
  "nbformat_minor": 0,
  "metadata": {
    "colab": {
      "name": "XE9TF2_HW3.ipynb",
      "provenance": [],
      "collapsed_sections": [],
      "authorship_tag": "ABX9TyNNq1cXJt/C+QAaYj/8y8Ro",
      "include_colab_link": true
    },
    "kernelspec": {
      "name": "python3",
      "display_name": "Python 3"
    },
    "language_info": {
      "name": "python"
    }
  },
  "cells": [
    {
      "cell_type": "markdown",
      "metadata": {
        "id": "view-in-github",
        "colab_type": "text"
      },
      "source": [
        "<a href=\"https://colab.research.google.com/github/zolo012/Machine_learning/blob/main/Wine_quality_KNN_regression.ipynb\" target=\"_parent\"><img src=\"https://colab.research.google.com/assets/colab-badge.svg\" alt=\"Open In Colab\"/></a>"
      ]
    },
    {
      "cell_type": "markdown",
      "metadata": {
        "id": "5YSmUvbBa1-r"
      },
      "source": [
        "# KNN regression\n",
        "\n",
        "Creator: Bereczki Zoltán"
      ]
    },
    {
      "cell_type": "code",
      "metadata": {
        "id": "IlQZ55XLSlSI"
      },
      "source": [
        "import pandas as pd\n",
        "import numpy as np\n",
        "import matplotlib.pyplot as plt\n",
        "import seaborn as sns\n",
        "import statistics\n",
        "from collections import Counter\n",
        "from sklearn import neighbors\n",
        "from sklearn.model_selection import train_test_split\n",
        "from sklearn.preprocessing import OneHotEncoder\n",
        "from sklearn.metrics import accuracy_score\n",
        "from sklearn.neighbors import KNeighborsRegressor, KNeighborsClassifier\n",
        "import io"
      ],
      "execution_count": null,
      "outputs": []
    },
    {
      "cell_type": "markdown",
      "metadata": {
        "id": "Hy4CJUu1bSwt"
      },
      "source": [
        "# 1. Read data\n",
        "- Read the provided winequality-red.csv file.\n",
        "- Check for missing values and that all entries are numerical. Also, check for duplicated entries (rows) and drop them.\n",
        "- Use all columns except the last as features and the quality column as target.\n",
        "- Make 80-20% train test split (use sklearn).\n",
        "- Prepare a one-hot encoded version of the y_test and y_train values ie. make a six long vector of the 6 quality classes (3-8), with only one non-zero value, e.g. 3->[1,0,0,0,0,0], 4->[0,1,0,0,0,0], 5->[0,0,1,0,0,0] etc. (You can use pandas or sklearn for that.) You will have to use the one-hot encoded labels in the classification exercise only.\n",
        "- Normalize the features by substracting the means and dividing by the standard deviation feature by feature. If you want to be very precise, you should use only the mean and std in the training set for normalization, because generally the test test is not available at training time.\n"
      ]
    },
    {
      "cell_type": "code",
      "metadata": {
        "colab": {
          "resources": {
            "http://localhost:8080/nbextensions/google.colab/files.js": {
              "data": "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",
              "ok": true,
              "headers": [
                [
                  "content-type",
                  "application/javascript"
                ]
              ],
              "status": 200,
              "status_text": ""
            }
          },
          "base_uri": "https://localhost:8080/",
          "height": 93
        },
        "id": "wKV0ELwEeuL3",
        "outputId": "dd3c3d83-aa30-4819-bd45-bef40f460ac7"
      },
      "source": [
        "from google.colab import files\n",
        "\n",
        "uploaded = files.upload()\n",
        "\n",
        "for fn in uploaded.keys():\n",
        "  print('User uploaded file \"{name}\" with length {length} bytes'.format(\n",
        "      name=fn, length=len(uploaded[fn])))"
      ],
      "execution_count": null,
      "outputs": [
        {
          "output_type": "display_data",
          "data": {
            "text/html": [
              "\n",
              "     <input type=\"file\" id=\"files-5c9539f0-4bc4-419f-ae15-3283b8b21ab8\" name=\"files[]\" multiple disabled\n",
              "        style=\"border:none\" />\n",
              "     <output id=\"result-5c9539f0-4bc4-419f-ae15-3283b8b21ab8\">\n",
              "      Upload widget is only available when the cell has been executed in the\n",
              "      current browser session. Please rerun this cell to enable.\n",
              "      </output>\n",
              "      <script src=\"/nbextensions/google.colab/files.js\"></script> "
            ],
            "text/plain": [
              "<IPython.core.display.HTML object>"
            ]
          },
          "metadata": {}
        },
        {
          "output_type": "stream",
          "name": "stdout",
          "text": [
            "Saving winequality-red.csv to winequality-red.csv\n",
            "User uploaded file \"winequality-red.csv\" with length 84199 bytes\n"
          ]
        }
      ]
    },
    {
      "cell_type": "markdown",
      "metadata": {
        "id": "YCIG0WmLaI_2"
      },
      "source": [
        "## 1.a\n",
        " Read the provided winequality-red.csv file."
      ]
    },
    {
      "cell_type": "code",
      "metadata": {
        "colab": {
          "base_uri": "https://localhost:8080/",
          "height": 206
        },
        "id": "Dw2atvz5bR0z",
        "outputId": "33e62733-faf7-45bc-c586-3d31bfda80bd"
      },
      "source": [
        "# Read winequality red csv file\n",
        "\n",
        "winequality_red_df = pd.read_csv(io.BytesIO(uploaded['winequality-red.csv']), sep = ';') # separator: ';'\n",
        "winequality_red_df.head()"
      ],
      "execution_count": null,
      "outputs": [
        {
          "output_type": "execute_result",
          "data": {
            "text/html": [
              "<div>\n",
              "<style scoped>\n",
              "    .dataframe tbody tr th:only-of-type {\n",
              "        vertical-align: middle;\n",
              "    }\n",
              "\n",
              "    .dataframe tbody tr th {\n",
              "        vertical-align: top;\n",
              "    }\n",
              "\n",
              "    .dataframe thead th {\n",
              "        text-align: right;\n",
              "    }\n",
              "</style>\n",
              "<table border=\"1\" class=\"dataframe\">\n",
              "  <thead>\n",
              "    <tr style=\"text-align: right;\">\n",
              "      <th></th>\n",
              "      <th>fixed acidity</th>\n",
              "      <th>volatile acidity</th>\n",
              "      <th>citric acid</th>\n",
              "      <th>residual sugar</th>\n",
              "      <th>chlorides</th>\n",
              "      <th>free sulfur dioxide</th>\n",
              "      <th>total sulfur dioxide</th>\n",
              "      <th>density</th>\n",
              "      <th>pH</th>\n",
              "      <th>sulphates</th>\n",
              "      <th>alcohol</th>\n",
              "      <th>quality</th>\n",
              "    </tr>\n",
              "  </thead>\n",
              "  <tbody>\n",
              "    <tr>\n",
              "      <th>0</th>\n",
              "      <td>7.4</td>\n",
              "      <td>0.70</td>\n",
              "      <td>0.00</td>\n",
              "      <td>1.9</td>\n",
              "      <td>0.076</td>\n",
              "      <td>11.0</td>\n",
              "      <td>34.0</td>\n",
              "      <td>0.9978</td>\n",
              "      <td>3.51</td>\n",
              "      <td>0.56</td>\n",
              "      <td>9.4</td>\n",
              "      <td>5</td>\n",
              "    </tr>\n",
              "    <tr>\n",
              "      <th>1</th>\n",
              "      <td>7.8</td>\n",
              "      <td>0.88</td>\n",
              "      <td>0.00</td>\n",
              "      <td>2.6</td>\n",
              "      <td>0.098</td>\n",
              "      <td>25.0</td>\n",
              "      <td>67.0</td>\n",
              "      <td>0.9968</td>\n",
              "      <td>3.20</td>\n",
              "      <td>0.68</td>\n",
              "      <td>9.8</td>\n",
              "      <td>5</td>\n",
              "    </tr>\n",
              "    <tr>\n",
              "      <th>2</th>\n",
              "      <td>7.8</td>\n",
              "      <td>0.76</td>\n",
              "      <td>0.04</td>\n",
              "      <td>2.3</td>\n",
              "      <td>0.092</td>\n",
              "      <td>15.0</td>\n",
              "      <td>54.0</td>\n",
              "      <td>0.9970</td>\n",
              "      <td>3.26</td>\n",
              "      <td>0.65</td>\n",
              "      <td>9.8</td>\n",
              "      <td>5</td>\n",
              "    </tr>\n",
              "    <tr>\n",
              "      <th>3</th>\n",
              "      <td>11.2</td>\n",
              "      <td>0.28</td>\n",
              "      <td>0.56</td>\n",
              "      <td>1.9</td>\n",
              "      <td>0.075</td>\n",
              "      <td>17.0</td>\n",
              "      <td>60.0</td>\n",
              "      <td>0.9980</td>\n",
              "      <td>3.16</td>\n",
              "      <td>0.58</td>\n",
              "      <td>9.8</td>\n",
              "      <td>6</td>\n",
              "    </tr>\n",
              "    <tr>\n",
              "      <th>4</th>\n",
              "      <td>7.4</td>\n",
              "      <td>0.70</td>\n",
              "      <td>0.00</td>\n",
              "      <td>1.9</td>\n",
              "      <td>0.076</td>\n",
              "      <td>11.0</td>\n",
              "      <td>34.0</td>\n",
              "      <td>0.9978</td>\n",
              "      <td>3.51</td>\n",
              "      <td>0.56</td>\n",
              "      <td>9.4</td>\n",
              "      <td>5</td>\n",
              "    </tr>\n",
              "  </tbody>\n",
              "</table>\n",
              "</div>"
            ],
            "text/plain": [
              "   fixed acidity  volatile acidity  citric acid  ...  sulphates  alcohol  quality\n",
              "0            7.4              0.70         0.00  ...       0.56      9.4        5\n",
              "1            7.8              0.88         0.00  ...       0.68      9.8        5\n",
              "2            7.8              0.76         0.04  ...       0.65      9.8        5\n",
              "3           11.2              0.28         0.56  ...       0.58      9.8        6\n",
              "4            7.4              0.70         0.00  ...       0.56      9.4        5\n",
              "\n",
              "[5 rows x 12 columns]"
            ]
          },
          "metadata": {},
          "execution_count": 3
        }
      ]
    },
    {
      "cell_type": "code",
      "metadata": {
        "colab": {
          "base_uri": "https://localhost:8080/",
          "height": 206
        },
        "id": "Kb_Ys8YWa1Lv",
        "outputId": "1aef3804-dd97-43ed-8a5c-35c1387f0233"
      },
      "source": [
        "winequality_red_df.tail()"
      ],
      "execution_count": null,
      "outputs": [
        {
          "output_type": "execute_result",
          "data": {
            "text/html": [
              "<div>\n",
              "<style scoped>\n",
              "    .dataframe tbody tr th:only-of-type {\n",
              "        vertical-align: middle;\n",
              "    }\n",
              "\n",
              "    .dataframe tbody tr th {\n",
              "        vertical-align: top;\n",
              "    }\n",
              "\n",
              "    .dataframe thead th {\n",
              "        text-align: right;\n",
              "    }\n",
              "</style>\n",
              "<table border=\"1\" class=\"dataframe\">\n",
              "  <thead>\n",
              "    <tr style=\"text-align: right;\">\n",
              "      <th></th>\n",
              "      <th>fixed acidity</th>\n",
              "      <th>volatile acidity</th>\n",
              "      <th>citric acid</th>\n",
              "      <th>residual sugar</th>\n",
              "      <th>chlorides</th>\n",
              "      <th>free sulfur dioxide</th>\n",
              "      <th>total sulfur dioxide</th>\n",
              "      <th>density</th>\n",
              "      <th>pH</th>\n",
              "      <th>sulphates</th>\n",
              "      <th>alcohol</th>\n",
              "      <th>quality</th>\n",
              "    </tr>\n",
              "  </thead>\n",
              "  <tbody>\n",
              "    <tr>\n",
              "      <th>1594</th>\n",
              "      <td>6.2</td>\n",
              "      <td>0.600</td>\n",
              "      <td>0.08</td>\n",
              "      <td>2.0</td>\n",
              "      <td>0.090</td>\n",
              "      <td>32.0</td>\n",
              "      <td>44.0</td>\n",
              "      <td>0.99490</td>\n",
              "      <td>3.45</td>\n",
              "      <td>0.58</td>\n",
              "      <td>10.5</td>\n",
              "      <td>5</td>\n",
              "    </tr>\n",
              "    <tr>\n",
              "      <th>1595</th>\n",
              "      <td>5.9</td>\n",
              "      <td>0.550</td>\n",
              "      <td>0.10</td>\n",
              "      <td>2.2</td>\n",
              "      <td>0.062</td>\n",
              "      <td>39.0</td>\n",
              "      <td>51.0</td>\n",
              "      <td>0.99512</td>\n",
              "      <td>3.52</td>\n",
              "      <td>0.76</td>\n",
              "      <td>11.2</td>\n",
              "      <td>6</td>\n",
              "    </tr>\n",
              "    <tr>\n",
              "      <th>1596</th>\n",
              "      <td>6.3</td>\n",
              "      <td>0.510</td>\n",
              "      <td>0.13</td>\n",
              "      <td>2.3</td>\n",
              "      <td>0.076</td>\n",
              "      <td>29.0</td>\n",
              "      <td>40.0</td>\n",
              "      <td>0.99574</td>\n",
              "      <td>3.42</td>\n",
              "      <td>0.75</td>\n",
              "      <td>11.0</td>\n",
              "      <td>6</td>\n",
              "    </tr>\n",
              "    <tr>\n",
              "      <th>1597</th>\n",
              "      <td>5.9</td>\n",
              "      <td>0.645</td>\n",
              "      <td>0.12</td>\n",
              "      <td>2.0</td>\n",
              "      <td>0.075</td>\n",
              "      <td>32.0</td>\n",
              "      <td>44.0</td>\n",
              "      <td>0.99547</td>\n",
              "      <td>3.57</td>\n",
              "      <td>0.71</td>\n",
              "      <td>10.2</td>\n",
              "      <td>5</td>\n",
              "    </tr>\n",
              "    <tr>\n",
              "      <th>1598</th>\n",
              "      <td>6.0</td>\n",
              "      <td>0.310</td>\n",
              "      <td>0.47</td>\n",
              "      <td>3.6</td>\n",
              "      <td>0.067</td>\n",
              "      <td>18.0</td>\n",
              "      <td>42.0</td>\n",
              "      <td>0.99549</td>\n",
              "      <td>3.39</td>\n",
              "      <td>0.66</td>\n",
              "      <td>11.0</td>\n",
              "      <td>6</td>\n",
              "    </tr>\n",
              "  </tbody>\n",
              "</table>\n",
              "</div>"
            ],
            "text/plain": [
              "      fixed acidity  volatile acidity  citric acid  ...  sulphates  alcohol  quality\n",
              "1594            6.2             0.600         0.08  ...       0.58     10.5        5\n",
              "1595            5.9             0.550         0.10  ...       0.76     11.2        6\n",
              "1596            6.3             0.510         0.13  ...       0.75     11.0        6\n",
              "1597            5.9             0.645         0.12  ...       0.71     10.2        5\n",
              "1598            6.0             0.310         0.47  ...       0.66     11.0        6\n",
              "\n",
              "[5 rows x 12 columns]"
            ]
          },
          "metadata": {},
          "execution_count": 4
        }
      ]
    },
    {
      "cell_type": "code",
      "metadata": {
        "colab": {
          "base_uri": "https://localhost:8080/"
        },
        "id": "hX1kWVyga1UD",
        "outputId": "32bd6a29-4720-4344-8017-63cfea4ccde1"
      },
      "source": [
        "winequality_red_df.shape"
      ],
      "execution_count": null,
      "outputs": [
        {
          "output_type": "execute_result",
          "data": {
            "text/plain": [
              "(1599, 12)"
            ]
          },
          "metadata": {},
          "execution_count": 5
        }
      ]
    },
    {
      "cell_type": "markdown",
      "metadata": {
        "id": "Rt5XxvYWaUac"
      },
      "source": [
        "## 1.b\n",
        "Check for missing values and that all entries are numerical. Also, check for duplicated entries (rows) and drop them"
      ]
    },
    {
      "cell_type": "code",
      "metadata": {
        "colab": {
          "base_uri": "https://localhost:8080/"
        },
        "id": "jceTIDoRa1Nz",
        "outputId": "b33ad16d-a180-4f10-c490-6e2b8583a8e6"
      },
      "source": [
        "# Check missing values\n",
        "\n",
        "winequality_red_df.isna().sum()"
      ],
      "execution_count": null,
      "outputs": [
        {
          "output_type": "execute_result",
          "data": {
            "text/plain": [
              "fixed acidity           0\n",
              "volatile acidity        0\n",
              "citric acid             0\n",
              "residual sugar          0\n",
              "chlorides               0\n",
              "free sulfur dioxide     0\n",
              "total sulfur dioxide    0\n",
              "density                 0\n",
              "pH                      0\n",
              "sulphates               0\n",
              "alcohol                 0\n",
              "quality                 0\n",
              "dtype: int64"
            ]
          },
          "metadata": {},
          "execution_count": 6
        }
      ]
    },
    {
      "cell_type": "markdown",
      "metadata": {
        "id": "UVUI3b_AiKEN"
      },
      "source": [
        "There are not missing values."
      ]
    },
    {
      "cell_type": "code",
      "metadata": {
        "colab": {
          "base_uri": "https://localhost:8080/"
        },
        "id": "ivd91vWAa1Qq",
        "outputId": "52e15957-c414-4558-83d2-b040b30f27f1"
      },
      "source": [
        "# Compute the sum of duplicated rows\n",
        "winequality_red_df.duplicated().sum()"
      ],
      "execution_count": null,
      "outputs": [
        {
          "output_type": "execute_result",
          "data": {
            "text/plain": [
              "240"
            ]
          },
          "metadata": {},
          "execution_count": 7
        }
      ]
    },
    {
      "cell_type": "markdown",
      "metadata": {
        "id": "F4luZYNjk3j8"
      },
      "source": [
        "240 duplicated rows are in wine quality dataframe."
      ]
    },
    {
      "cell_type": "code",
      "metadata": {
        "id": "UhchP-7Za1ez"
      },
      "source": [
        "# Remove duplicated rows\n",
        "winequality_red_df.drop_duplicates(inplace=True)"
      ],
      "execution_count": null,
      "outputs": []
    },
    {
      "cell_type": "code",
      "metadata": {
        "colab": {
          "base_uri": "https://localhost:8080/"
        },
        "id": "tRg3QjgclJjL",
        "outputId": "86c0e27d-4770-4e57-8cc9-b7e5a76b8eed"
      },
      "source": [
        "# Check all numbers?\n",
        "winequality_red_df.select_dtypes(include=np.number).shape"
      ],
      "execution_count": null,
      "outputs": [
        {
          "output_type": "execute_result",
          "data": {
            "text/plain": [
              "(1359, 12)"
            ]
          },
          "metadata": {},
          "execution_count": 9
        }
      ]
    },
    {
      "cell_type": "code",
      "metadata": {
        "colab": {
          "base_uri": "https://localhost:8080/"
        },
        "id": "GAcojn5vlJlM",
        "outputId": "f4cafd49-2028-481e-ba96-f420d327fe50"
      },
      "source": [
        "winequality_red_df.dtypes"
      ],
      "execution_count": null,
      "outputs": [
        {
          "output_type": "execute_result",
          "data": {
            "text/plain": [
              "fixed acidity           float64\n",
              "volatile acidity        float64\n",
              "citric acid             float64\n",
              "residual sugar          float64\n",
              "chlorides               float64\n",
              "free sulfur dioxide     float64\n",
              "total sulfur dioxide    float64\n",
              "density                 float64\n",
              "pH                      float64\n",
              "sulphates               float64\n",
              "alcohol                 float64\n",
              "quality                   int64\n",
              "dtype: object"
            ]
          },
          "metadata": {},
          "execution_count": 10
        }
      ]
    },
    {
      "cell_type": "markdown",
      "metadata": {
        "id": "DcAOKoGsnt4z"
      },
      "source": [
        "All data is number in the dataframe."
      ]
    },
    {
      "cell_type": "markdown",
      "metadata": {
        "id": "iXib_F-las90"
      },
      "source": [
        "## 1.c\n",
        "Use all columns except the last as features and the quality column as target"
      ]
    },
    {
      "cell_type": "code",
      "metadata": {
        "id": "xWW7C448lJut",
        "colab": {
          "base_uri": "https://localhost:8080/"
        },
        "outputId": "27039978-5f5f-474e-e0e6-fddd9fad1ff5"
      },
      "source": [
        "# Create features containing variable\n",
        "x = winequality_red_df.iloc[:, 0:-1].values\n",
        "x.shape"
      ],
      "execution_count": null,
      "outputs": [
        {
          "output_type": "execute_result",
          "data": {
            "text/plain": [
              "(1359, 11)"
            ]
          },
          "metadata": {},
          "execution_count": 11
        }
      ]
    },
    {
      "cell_type": "code",
      "metadata": {
        "colab": {
          "base_uri": "https://localhost:8080/"
        },
        "id": "kjCuy4aax0Qy",
        "outputId": "84634db8-aab5-48b6-d691-0f2fcec7d1ae"
      },
      "source": [
        "# Create quality containing variable\n",
        "y = winequality_red_df['quality']\n",
        "y.shape"
      ],
      "execution_count": null,
      "outputs": [
        {
          "output_type": "execute_result",
          "data": {
            "text/plain": [
              "(1359,)"
            ]
          },
          "metadata": {},
          "execution_count": 12
        }
      ]
    },
    {
      "cell_type": "code",
      "metadata": {
        "colab": {
          "base_uri": "https://localhost:8080/"
        },
        "id": "6lPRTo1slJrU",
        "outputId": "8182beb8-7452-4e6c-ba69-e6b4a06c9c76"
      },
      "source": [
        "winequality_red_df.quality.value_counts()"
      ],
      "execution_count": null,
      "outputs": [
        {
          "output_type": "execute_result",
          "data": {
            "text/plain": [
              "5    577\n",
              "6    535\n",
              "7    167\n",
              "4     53\n",
              "8     17\n",
              "3     10\n",
              "Name: quality, dtype: int64"
            ]
          },
          "metadata": {},
          "execution_count": 13
        }
      ]
    },
    {
      "cell_type": "markdown",
      "metadata": {
        "id": "qiOEpJ7HaypE"
      },
      "source": [
        "## 1.d\n",
        "Split data into test (20%) and train (80%)"
      ]
    },
    {
      "cell_type": "code",
      "metadata": {
        "id": "4vqcMk6vyNX3",
        "colab": {
          "base_uri": "https://localhost:8080/"
        },
        "outputId": "96f35c15-24ea-46f7-a54d-80114b346320"
      },
      "source": [
        "# Split data into test (20%) and train (80%)\n",
        "\n",
        "x_train, x_test, y_train, y_test = train_test_split(x, y, test_size = 0.2)\n",
        "print('X train shape: {}\\nX test shape: {}\\nY train shape: {}\\nY test shape: {}'.format(x_train.shape, x_test.shape, y_train.shape, y_test.shape))"
      ],
      "execution_count": null,
      "outputs": [
        {
          "output_type": "stream",
          "name": "stdout",
          "text": [
            "X train shape: (1087, 11)\n",
            "X test shape: (272, 11)\n",
            "Y train shape: (1087,)\n",
            "Y test shape: (272,)\n"
          ]
        }
      ]
    },
    {
      "cell_type": "markdown",
      "metadata": {
        "id": "eL85PA3qa_z1"
      },
      "source": [
        "## 1.e\n",
        "Prepare a one-hot encoded version of the y_test and y_train values"
      ]
    },
    {
      "cell_type": "code",
      "metadata": {
        "colab": {
          "base_uri": "https://localhost:8080/"
        },
        "id": "FGB7OeS_LqHv",
        "outputId": "7e157c1f-f347-4923-c744-986934a93ed2"
      },
      "source": [
        "print(y_train)\n",
        "print(y_test)"
      ],
      "execution_count": null,
      "outputs": [
        {
          "output_type": "stream",
          "name": "stdout",
          "text": [
            "754     6\n",
            "491     7\n",
            "608     6\n",
            "926     6\n",
            "303     5\n",
            "       ..\n",
            "154     5\n",
            "317     6\n",
            "1039    6\n",
            "646     5\n",
            "520     6\n",
            "Name: quality, Length: 1087, dtype: int64\n",
            "1052    5\n",
            "415     5\n",
            "59      6\n",
            "306     5\n",
            "527     6\n",
            "       ..\n",
            "718     5\n",
            "66      5\n",
            "408     6\n",
            "801     5\n",
            "746     6\n",
            "Name: quality, Length: 272, dtype: int64\n"
          ]
        }
      ]
    },
    {
      "cell_type": "code",
      "metadata": {
        "id": "hYVuJp1JykVw",
        "colab": {
          "base_uri": "https://localhost:8080/"
        },
        "outputId": "9e50aeea-ec28-453a-ff41-c1a8d6c31b85"
      },
      "source": [
        "# Make one-hot encoded version of the y_test \n",
        "\n",
        "onehot_encoder = OneHotEncoder(sparse=False)\n",
        "y_test_arr = np.array(y_test).reshape(len(y_test), 1)\n",
        "print(y_test_arr)\n",
        "y_test_hot = onehot_encoder.fit_transform(y_test_arr)"
      ],
      "execution_count": null,
      "outputs": [
        {
          "output_type": "stream",
          "name": "stdout",
          "text": [
            "[[5]\n",
            " [5]\n",
            " [6]\n",
            " [5]\n",
            " [6]\n",
            " [6]\n",
            " [6]\n",
            " [7]\n",
            " [6]\n",
            " [5]\n",
            " [7]\n",
            " [6]\n",
            " [5]\n",
            " [5]\n",
            " [5]\n",
            " [4]\n",
            " [4]\n",
            " [5]\n",
            " [6]\n",
            " [5]\n",
            " [6]\n",
            " [6]\n",
            " [5]\n",
            " [7]\n",
            " [7]\n",
            " [6]\n",
            " [6]\n",
            " [6]\n",
            " [6]\n",
            " [5]\n",
            " [5]\n",
            " [6]\n",
            " [7]\n",
            " [6]\n",
            " [7]\n",
            " [5]\n",
            " [5]\n",
            " [5]\n",
            " [3]\n",
            " [5]\n",
            " [6]\n",
            " [5]\n",
            " [6]\n",
            " [6]\n",
            " [6]\n",
            " [5]\n",
            " [6]\n",
            " [5]\n",
            " [5]\n",
            " [6]\n",
            " [5]\n",
            " [5]\n",
            " [6]\n",
            " [7]\n",
            " [6]\n",
            " [5]\n",
            " [7]\n",
            " [6]\n",
            " [5]\n",
            " [4]\n",
            " [7]\n",
            " [7]\n",
            " [5]\n",
            " [5]\n",
            " [6]\n",
            " [5]\n",
            " [5]\n",
            " [5]\n",
            " [5]\n",
            " [5]\n",
            " [5]\n",
            " [6]\n",
            " [5]\n",
            " [5]\n",
            " [6]\n",
            " [5]\n",
            " [5]\n",
            " [6]\n",
            " [5]\n",
            " [6]\n",
            " [6]\n",
            " [7]\n",
            " [6]\n",
            " [6]\n",
            " [6]\n",
            " [7]\n",
            " [5]\n",
            " [7]\n",
            " [6]\n",
            " [6]\n",
            " [5]\n",
            " [6]\n",
            " [6]\n",
            " [5]\n",
            " [5]\n",
            " [5]\n",
            " [7]\n",
            " [5]\n",
            " [7]\n",
            " [5]\n",
            " [6]\n",
            " [6]\n",
            " [5]\n",
            " [4]\n",
            " [8]\n",
            " [5]\n",
            " [5]\n",
            " [6]\n",
            " [6]\n",
            " [6]\n",
            " [6]\n",
            " [7]\n",
            " [6]\n",
            " [5]\n",
            " [6]\n",
            " [8]\n",
            " [7]\n",
            " [5]\n",
            " [6]\n",
            " [5]\n",
            " [5]\n",
            " [6]\n",
            " [6]\n",
            " [5]\n",
            " [6]\n",
            " [6]\n",
            " [5]\n",
            " [5]\n",
            " [6]\n",
            " [6]\n",
            " [7]\n",
            " [5]\n",
            " [6]\n",
            " [7]\n",
            " [5]\n",
            " [5]\n",
            " [6]\n",
            " [5]\n",
            " [5]\n",
            " [5]\n",
            " [6]\n",
            " [5]\n",
            " [6]\n",
            " [6]\n",
            " [6]\n",
            " [6]\n",
            " [6]\n",
            " [6]\n",
            " [6]\n",
            " [5]\n",
            " [6]\n",
            " [6]\n",
            " [7]\n",
            " [6]\n",
            " [7]\n",
            " [5]\n",
            " [5]\n",
            " [6]\n",
            " [6]\n",
            " [5]\n",
            " [5]\n",
            " [5]\n",
            " [7]\n",
            " [6]\n",
            " [5]\n",
            " [5]\n",
            " [6]\n",
            " [7]\n",
            " [5]\n",
            " [6]\n",
            " [5]\n",
            " [6]\n",
            " [5]\n",
            " [6]\n",
            " [7]\n",
            " [7]\n",
            " [7]\n",
            " [5]\n",
            " [5]\n",
            " [6]\n",
            " [5]\n",
            " [6]\n",
            " [5]\n",
            " [5]\n",
            " [6]\n",
            " [5]\n",
            " [5]\n",
            " [6]\n",
            " [5]\n",
            " [5]\n",
            " [5]\n",
            " [5]\n",
            " [6]\n",
            " [6]\n",
            " [6]\n",
            " [5]\n",
            " [5]\n",
            " [5]\n",
            " [6]\n",
            " [5]\n",
            " [6]\n",
            " [6]\n",
            " [7]\n",
            " [5]\n",
            " [7]\n",
            " [6]\n",
            " [5]\n",
            " [8]\n",
            " [5]\n",
            " [5]\n",
            " [7]\n",
            " [5]\n",
            " [6]\n",
            " [7]\n",
            " [5]\n",
            " [5]\n",
            " [5]\n",
            " [5]\n",
            " [6]\n",
            " [6]\n",
            " [5]\n",
            " [5]\n",
            " [6]\n",
            " [6]\n",
            " [7]\n",
            " [5]\n",
            " [6]\n",
            " [6]\n",
            " [6]\n",
            " [6]\n",
            " [5]\n",
            " [5]\n",
            " [5]\n",
            " [7]\n",
            " [5]\n",
            " [4]\n",
            " [4]\n",
            " [6]\n",
            " [5]\n",
            " [5]\n",
            " [6]\n",
            " [6]\n",
            " [6]\n",
            " [5]\n",
            " [6]\n",
            " [8]\n",
            " [5]\n",
            " [6]\n",
            " [6]\n",
            " [6]\n",
            " [6]\n",
            " [5]\n",
            " [6]\n",
            " [7]\n",
            " [4]\n",
            " [6]\n",
            " [5]\n",
            " [6]\n",
            " [6]\n",
            " [6]\n",
            " [6]\n",
            " [5]\n",
            " [6]\n",
            " [5]\n",
            " [6]\n",
            " [6]\n",
            " [5]\n",
            " [5]\n",
            " [5]\n",
            " [6]\n",
            " [5]\n",
            " [6]]\n"
          ]
        }
      ]
    },
    {
      "cell_type": "code",
      "metadata": {
        "colab": {
          "base_uri": "https://localhost:8080/"
        },
        "id": "k5qbYTlNykIt",
        "outputId": "2dc7451e-89d8-4236-85de-d3b42ebe4861"
      },
      "source": [
        "print(y_test_hot)"
      ],
      "execution_count": null,
      "outputs": [
        {
          "output_type": "stream",
          "name": "stdout",
          "text": [
            "[[0. 0. 1. 0. 0. 0.]\n",
            " [0. 0. 1. 0. 0. 0.]\n",
            " [0. 0. 0. 1. 0. 0.]\n",
            " ...\n",
            " [0. 0. 0. 1. 0. 0.]\n",
            " [0. 0. 1. 0. 0. 0.]\n",
            " [0. 0. 0. 1. 0. 0.]]\n"
          ]
        }
      ]
    },
    {
      "cell_type": "code",
      "metadata": {
        "colab": {
          "base_uri": "https://localhost:8080/"
        },
        "id": "cfQg6mUJ9Lxf",
        "outputId": "33da2e3c-250f-453c-ed23-856a675aea03"
      },
      "source": [
        "# Make one hot encoded version of y_train\n",
        "\n",
        "y_train_arr = np.array(y_train).reshape(len(y_train), 1)\n",
        "y_train_arr"
      ],
      "execution_count": null,
      "outputs": [
        {
          "output_type": "execute_result",
          "data": {
            "text/plain": [
              "array([[6],\n",
              "       [7],\n",
              "       [6],\n",
              "       ...,\n",
              "       [6],\n",
              "       [5],\n",
              "       [6]])"
            ]
          },
          "metadata": {},
          "execution_count": 18
        }
      ]
    },
    {
      "cell_type": "code",
      "metadata": {
        "colab": {
          "base_uri": "https://localhost:8080/"
        },
        "id": "7gS_57gg9L8s",
        "outputId": "0e01c0b0-d9f7-44f7-f096-6b7eaa0fb3d9"
      },
      "source": [
        "y_train_hot = onehot_encoder.fit_transform(y_train_arr)\n",
        "y_train_hot"
      ],
      "execution_count": null,
      "outputs": [
        {
          "output_type": "execute_result",
          "data": {
            "text/plain": [
              "array([[0., 0., 0., 1., 0., 0.],\n",
              "       [0., 0., 0., 0., 1., 0.],\n",
              "       [0., 0., 0., 1., 0., 0.],\n",
              "       ...,\n",
              "       [0., 0., 0., 1., 0., 0.],\n",
              "       [0., 0., 1., 0., 0., 0.],\n",
              "       [0., 0., 0., 1., 0., 0.]])"
            ]
          },
          "metadata": {},
          "execution_count": 19
        }
      ]
    },
    {
      "cell_type": "markdown",
      "metadata": {
        "id": "LsRVCXgMiIOL"
      },
      "source": [
        "## 1.f\n",
        "Normalize the features by substracting the means and dividing by the standard deviation feature by feature."
      ]
    },
    {
      "cell_type": "code",
      "metadata": {
        "colab": {
          "base_uri": "https://localhost:8080/"
        },
        "id": "WiWrUGimAk3e",
        "outputId": "5f7892dc-a476-4d3a-f974-1c25b6fbb03a"
      },
      "source": [
        "# Check x_train values before normalization\n",
        "x_train"
      ],
      "execution_count": null,
      "outputs": [
        {
          "output_type": "execute_result",
          "data": {
            "text/plain": [
              "array([[ 7.8 ,  0.48,  0.68, ...,  3.09,  1.06,  9.1 ],\n",
              "       [ 9.2 ,  0.41,  0.5 , ...,  3.34,  0.79, 13.3 ],\n",
              "       [10.1 ,  0.65,  0.37, ...,  3.32,  0.64, 10.4 ],\n",
              "       ...,\n",
              "       [ 8.9 ,  0.5 ,  0.21, ...,  3.33,  0.83, 11.1 ],\n",
              "       [ 7.3 ,  0.67,  0.05, ...,  3.4 ,  0.63, 10.1 ],\n",
              "       [ 9.8 ,  0.25,  0.49, ...,  3.42,  0.9 , 10.  ]])"
            ]
          },
          "metadata": {},
          "execution_count": 20
        }
      ]
    },
    {
      "cell_type": "code",
      "metadata": {
        "colab": {
          "base_uri": "https://localhost:8080/",
          "height": 423
        },
        "id": "X5qTZNUlAk6s",
        "outputId": "fd74d1a6-d6ad-4541-d098-322739b8da92"
      },
      "source": [
        "# Make a dataframe from them\n",
        "x_train_df = pd.DataFrame(data=x_train, columns=winequality_red_df.columns[:-1])\n",
        "x_train_df"
      ],
      "execution_count": null,
      "outputs": [
        {
          "output_type": "execute_result",
          "data": {
            "text/html": [
              "<div>\n",
              "<style scoped>\n",
              "    .dataframe tbody tr th:only-of-type {\n",
              "        vertical-align: middle;\n",
              "    }\n",
              "\n",
              "    .dataframe tbody tr th {\n",
              "        vertical-align: top;\n",
              "    }\n",
              "\n",
              "    .dataframe thead th {\n",
              "        text-align: right;\n",
              "    }\n",
              "</style>\n",
              "<table border=\"1\" class=\"dataframe\">\n",
              "  <thead>\n",
              "    <tr style=\"text-align: right;\">\n",
              "      <th></th>\n",
              "      <th>fixed acidity</th>\n",
              "      <th>volatile acidity</th>\n",
              "      <th>citric acid</th>\n",
              "      <th>residual sugar</th>\n",
              "      <th>chlorides</th>\n",
              "      <th>free sulfur dioxide</th>\n",
              "      <th>total sulfur dioxide</th>\n",
              "      <th>density</th>\n",
              "      <th>pH</th>\n",
              "      <th>sulphates</th>\n",
              "      <th>alcohol</th>\n",
              "    </tr>\n",
              "  </thead>\n",
              "  <tbody>\n",
              "    <tr>\n",
              "      <th>0</th>\n",
              "      <td>7.8</td>\n",
              "      <td>0.48</td>\n",
              "      <td>0.68</td>\n",
              "      <td>1.7</td>\n",
              "      <td>0.415</td>\n",
              "      <td>14.0</td>\n",
              "      <td>32.0</td>\n",
              "      <td>0.99656</td>\n",
              "      <td>3.09</td>\n",
              "      <td>1.06</td>\n",
              "      <td>9.1</td>\n",
              "    </tr>\n",
              "    <tr>\n",
              "      <th>1</th>\n",
              "      <td>9.2</td>\n",
              "      <td>0.41</td>\n",
              "      <td>0.50</td>\n",
              "      <td>2.5</td>\n",
              "      <td>0.055</td>\n",
              "      <td>12.0</td>\n",
              "      <td>25.0</td>\n",
              "      <td>0.99520</td>\n",
              "      <td>3.34</td>\n",
              "      <td>0.79</td>\n",
              "      <td>13.3</td>\n",
              "    </tr>\n",
              "    <tr>\n",
              "      <th>2</th>\n",
              "      <td>10.1</td>\n",
              "      <td>0.65</td>\n",
              "      <td>0.37</td>\n",
              "      <td>5.1</td>\n",
              "      <td>0.110</td>\n",
              "      <td>11.0</td>\n",
              "      <td>65.0</td>\n",
              "      <td>1.00260</td>\n",
              "      <td>3.32</td>\n",
              "      <td>0.64</td>\n",
              "      <td>10.4</td>\n",
              "    </tr>\n",
              "    <tr>\n",
              "      <th>3</th>\n",
              "      <td>9.4</td>\n",
              "      <td>0.24</td>\n",
              "      <td>0.33</td>\n",
              "      <td>2.3</td>\n",
              "      <td>0.061</td>\n",
              "      <td>52.0</td>\n",
              "      <td>73.0</td>\n",
              "      <td>0.99786</td>\n",
              "      <td>3.47</td>\n",
              "      <td>0.90</td>\n",
              "      <td>10.2</td>\n",
              "    </tr>\n",
              "    <tr>\n",
              "      <th>4</th>\n",
              "      <td>7.4</td>\n",
              "      <td>0.67</td>\n",
              "      <td>0.12</td>\n",
              "      <td>1.6</td>\n",
              "      <td>0.186</td>\n",
              "      <td>5.0</td>\n",
              "      <td>21.0</td>\n",
              "      <td>0.99600</td>\n",
              "      <td>3.39</td>\n",
              "      <td>0.54</td>\n",
              "      <td>9.5</td>\n",
              "    </tr>\n",
              "    <tr>\n",
              "      <th>...</th>\n",
              "      <td>...</td>\n",
              "      <td>...</td>\n",
              "      <td>...</td>\n",
              "      <td>...</td>\n",
              "      <td>...</td>\n",
              "      <td>...</td>\n",
              "      <td>...</td>\n",
              "      <td>...</td>\n",
              "      <td>...</td>\n",
              "      <td>...</td>\n",
              "      <td>...</td>\n",
              "    </tr>\n",
              "    <tr>\n",
              "      <th>1082</th>\n",
              "      <td>7.1</td>\n",
              "      <td>0.43</td>\n",
              "      <td>0.42</td>\n",
              "      <td>5.5</td>\n",
              "      <td>0.070</td>\n",
              "      <td>29.0</td>\n",
              "      <td>129.0</td>\n",
              "      <td>0.99730</td>\n",
              "      <td>3.42</td>\n",
              "      <td>0.72</td>\n",
              "      <td>10.5</td>\n",
              "    </tr>\n",
              "    <tr>\n",
              "      <th>1083</th>\n",
              "      <td>9.6</td>\n",
              "      <td>0.77</td>\n",
              "      <td>0.12</td>\n",
              "      <td>2.9</td>\n",
              "      <td>0.082</td>\n",
              "      <td>30.0</td>\n",
              "      <td>74.0</td>\n",
              "      <td>0.99865</td>\n",
              "      <td>3.30</td>\n",
              "      <td>0.64</td>\n",
              "      <td>10.4</td>\n",
              "    </tr>\n",
              "    <tr>\n",
              "      <th>1084</th>\n",
              "      <td>8.9</td>\n",
              "      <td>0.50</td>\n",
              "      <td>0.21</td>\n",
              "      <td>2.2</td>\n",
              "      <td>0.088</td>\n",
              "      <td>21.0</td>\n",
              "      <td>39.0</td>\n",
              "      <td>0.99692</td>\n",
              "      <td>3.33</td>\n",
              "      <td>0.83</td>\n",
              "      <td>11.1</td>\n",
              "    </tr>\n",
              "    <tr>\n",
              "      <th>1085</th>\n",
              "      <td>7.3</td>\n",
              "      <td>0.67</td>\n",
              "      <td>0.05</td>\n",
              "      <td>3.6</td>\n",
              "      <td>0.107</td>\n",
              "      <td>6.0</td>\n",
              "      <td>20.0</td>\n",
              "      <td>0.99720</td>\n",
              "      <td>3.40</td>\n",
              "      <td>0.63</td>\n",
              "      <td>10.1</td>\n",
              "    </tr>\n",
              "    <tr>\n",
              "      <th>1086</th>\n",
              "      <td>9.8</td>\n",
              "      <td>0.25</td>\n",
              "      <td>0.49</td>\n",
              "      <td>2.7</td>\n",
              "      <td>0.088</td>\n",
              "      <td>15.0</td>\n",
              "      <td>33.0</td>\n",
              "      <td>0.99820</td>\n",
              "      <td>3.42</td>\n",
              "      <td>0.90</td>\n",
              "      <td>10.0</td>\n",
              "    </tr>\n",
              "  </tbody>\n",
              "</table>\n",
              "<p>1087 rows × 11 columns</p>\n",
              "</div>"
            ],
            "text/plain": [
              "      fixed acidity  volatile acidity  citric acid  ...    pH  sulphates  alcohol\n",
              "0               7.8              0.48         0.68  ...  3.09       1.06      9.1\n",
              "1               9.2              0.41         0.50  ...  3.34       0.79     13.3\n",
              "2              10.1              0.65         0.37  ...  3.32       0.64     10.4\n",
              "3               9.4              0.24         0.33  ...  3.47       0.90     10.2\n",
              "4               7.4              0.67         0.12  ...  3.39       0.54      9.5\n",
              "...             ...               ...          ...  ...   ...        ...      ...\n",
              "1082            7.1              0.43         0.42  ...  3.42       0.72     10.5\n",
              "1083            9.6              0.77         0.12  ...  3.30       0.64     10.4\n",
              "1084            8.9              0.50         0.21  ...  3.33       0.83     11.1\n",
              "1085            7.3              0.67         0.05  ...  3.40       0.63     10.1\n",
              "1086            9.8              0.25         0.49  ...  3.42       0.90     10.0\n",
              "\n",
              "[1087 rows x 11 columns]"
            ]
          },
          "metadata": {},
          "execution_count": 21
        }
      ]
    },
    {
      "cell_type": "code",
      "metadata": {
        "colab": {
          "base_uri": "https://localhost:8080/",
          "height": 423
        },
        "id": "_p-Ee7wQAk9p",
        "outputId": "d8e945ef-c65b-4bd1-851a-9857e813e162"
      },
      "source": [
        "# Normalize the features' values in dataframe\n",
        "x_train_norm_df = (x_train_df - x_train_df.mean())/x_train_df.std()\n",
        "x_train_norm_df"
      ],
      "execution_count": null,
      "outputs": [
        {
          "output_type": "execute_result",
          "data": {
            "text/html": [
              "<div>\n",
              "<style scoped>\n",
              "    .dataframe tbody tr th:only-of-type {\n",
              "        vertical-align: middle;\n",
              "    }\n",
              "\n",
              "    .dataframe tbody tr th {\n",
              "        vertical-align: top;\n",
              "    }\n",
              "\n",
              "    .dataframe thead th {\n",
              "        text-align: right;\n",
              "    }\n",
              "</style>\n",
              "<table border=\"1\" class=\"dataframe\">\n",
              "  <thead>\n",
              "    <tr style=\"text-align: right;\">\n",
              "      <th></th>\n",
              "      <th>fixed acidity</th>\n",
              "      <th>volatile acidity</th>\n",
              "      <th>citric acid</th>\n",
              "      <th>residual sugar</th>\n",
              "      <th>chlorides</th>\n",
              "      <th>free sulfur dioxide</th>\n",
              "      <th>total sulfur dioxide</th>\n",
              "      <th>density</th>\n",
              "      <th>pH</th>\n",
              "      <th>sulphates</th>\n",
              "      <th>alcohol</th>\n",
              "    </tr>\n",
              "  </thead>\n",
              "  <tbody>\n",
              "    <tr>\n",
              "      <th>0</th>\n",
              "      <td>-0.297457</td>\n",
              "      <td>-0.278017</td>\n",
              "      <td>2.086309</td>\n",
              "      <td>-0.613949</td>\n",
              "      <td>6.767541</td>\n",
              "      <td>-0.163279</td>\n",
              "      <td>-0.433177</td>\n",
              "      <td>-0.080510</td>\n",
              "      <td>-1.426511</td>\n",
              "      <td>2.340922</td>\n",
              "      <td>-1.250092</td>\n",
              "    </tr>\n",
              "    <tr>\n",
              "      <th>1</th>\n",
              "      <td>0.508436</td>\n",
              "      <td>-0.653892</td>\n",
              "      <td>1.164036</td>\n",
              "      <td>-0.003789</td>\n",
              "      <td>-0.689319</td>\n",
              "      <td>-0.353508</td>\n",
              "      <td>-0.640261</td>\n",
              "      <td>-0.819124</td>\n",
              "      <td>0.187035</td>\n",
              "      <td>0.764534</td>\n",
              "      <td>2.672857</td>\n",
              "    </tr>\n",
              "    <tr>\n",
              "      <th>2</th>\n",
              "      <td>1.026510</td>\n",
              "      <td>0.634824</td>\n",
              "      <td>0.497950</td>\n",
              "      <td>1.979232</td>\n",
              "      <td>0.449923</td>\n",
              "      <td>-0.448622</td>\n",
              "      <td>0.543074</td>\n",
              "      <td>3.199802</td>\n",
              "      <td>0.057951</td>\n",
              "      <td>-0.111237</td>\n",
              "      <td>-0.035846</td>\n",
              "    </tr>\n",
              "    <tr>\n",
              "      <th>3</th>\n",
              "      <td>0.623563</td>\n",
              "      <td>-1.566733</td>\n",
              "      <td>0.293001</td>\n",
              "      <td>-0.156329</td>\n",
              "      <td>-0.565038</td>\n",
              "      <td>3.451075</td>\n",
              "      <td>0.779741</td>\n",
              "      <td>0.625517</td>\n",
              "      <td>1.026079</td>\n",
              "      <td>1.406766</td>\n",
              "      <td>-0.222653</td>\n",
              "    </tr>\n",
              "    <tr>\n",
              "      <th>4</th>\n",
              "      <td>-0.527712</td>\n",
              "      <td>0.742217</td>\n",
              "      <td>-0.782984</td>\n",
              "      <td>-0.690219</td>\n",
              "      <td>2.024149</td>\n",
              "      <td>-1.019310</td>\n",
              "      <td>-0.758594</td>\n",
              "      <td>-0.384645</td>\n",
              "      <td>0.509744</td>\n",
              "      <td>-0.695085</td>\n",
              "      <td>-0.876478</td>\n",
              "    </tr>\n",
              "    <tr>\n",
              "      <th>...</th>\n",
              "      <td>...</td>\n",
              "      <td>...</td>\n",
              "      <td>...</td>\n",
              "      <td>...</td>\n",
              "      <td>...</td>\n",
              "      <td>...</td>\n",
              "      <td>...</td>\n",
              "      <td>...</td>\n",
              "      <td>...</td>\n",
              "      <td>...</td>\n",
              "      <td>...</td>\n",
              "    </tr>\n",
              "    <tr>\n",
              "      <th>1082</th>\n",
              "      <td>-0.700403</td>\n",
              "      <td>-0.546499</td>\n",
              "      <td>0.754137</td>\n",
              "      <td>2.284312</td>\n",
              "      <td>-0.378617</td>\n",
              "      <td>1.263440</td>\n",
              "      <td>2.436409</td>\n",
              "      <td>0.321382</td>\n",
              "      <td>0.703369</td>\n",
              "      <td>0.355841</td>\n",
              "      <td>0.057557</td>\n",
              "    </tr>\n",
              "    <tr>\n",
              "      <th>1083</th>\n",
              "      <td>0.738691</td>\n",
              "      <td>1.279182</td>\n",
              "      <td>-0.782984</td>\n",
              "      <td>0.301291</td>\n",
              "      <td>-0.130055</td>\n",
              "      <td>1.358554</td>\n",
              "      <td>0.809324</td>\n",
              "      <td>1.054565</td>\n",
              "      <td>-0.071133</td>\n",
              "      <td>-0.111237</td>\n",
              "      <td>-0.035846</td>\n",
              "    </tr>\n",
              "    <tr>\n",
              "      <th>1084</th>\n",
              "      <td>0.335744</td>\n",
              "      <td>-0.170624</td>\n",
              "      <td>-0.321848</td>\n",
              "      <td>-0.232599</td>\n",
              "      <td>-0.005774</td>\n",
              "      <td>0.502523</td>\n",
              "      <td>-0.226094</td>\n",
              "      <td>0.115005</td>\n",
              "      <td>0.122493</td>\n",
              "      <td>0.998073</td>\n",
              "      <td>0.617979</td>\n",
              "    </tr>\n",
              "    <tr>\n",
              "      <th>1085</th>\n",
              "      <td>-0.585276</td>\n",
              "      <td>0.742217</td>\n",
              "      <td>-1.141646</td>\n",
              "      <td>0.835182</td>\n",
              "      <td>0.387783</td>\n",
              "      <td>-0.924195</td>\n",
              "      <td>-0.788177</td>\n",
              "      <td>0.267072</td>\n",
              "      <td>0.574286</td>\n",
              "      <td>-0.169622</td>\n",
              "      <td>-0.316057</td>\n",
              "    </tr>\n",
              "    <tr>\n",
              "      <th>1086</th>\n",
              "      <td>0.853818</td>\n",
              "      <td>-1.513036</td>\n",
              "      <td>1.112799</td>\n",
              "      <td>0.148751</td>\n",
              "      <td>-0.005774</td>\n",
              "      <td>-0.068164</td>\n",
              "      <td>-0.403594</td>\n",
              "      <td>0.810170</td>\n",
              "      <td>0.703369</td>\n",
              "      <td>1.406766</td>\n",
              "      <td>-0.409460</td>\n",
              "    </tr>\n",
              "  </tbody>\n",
              "</table>\n",
              "<p>1087 rows × 11 columns</p>\n",
              "</div>"
            ],
            "text/plain": [
              "      fixed acidity  volatile acidity  ...  sulphates   alcohol\n",
              "0         -0.297457         -0.278017  ...   2.340922 -1.250092\n",
              "1          0.508436         -0.653892  ...   0.764534  2.672857\n",
              "2          1.026510          0.634824  ...  -0.111237 -0.035846\n",
              "3          0.623563         -1.566733  ...   1.406766 -0.222653\n",
              "4         -0.527712          0.742217  ...  -0.695085 -0.876478\n",
              "...             ...               ...  ...        ...       ...\n",
              "1082      -0.700403         -0.546499  ...   0.355841  0.057557\n",
              "1083       0.738691          1.279182  ...  -0.111237 -0.035846\n",
              "1084       0.335744         -0.170624  ...   0.998073  0.617979\n",
              "1085      -0.585276          0.742217  ...  -0.169622 -0.316057\n",
              "1086       0.853818         -1.513036  ...   1.406766 -0.409460\n",
              "\n",
              "[1087 rows x 11 columns]"
            ]
          },
          "metadata": {},
          "execution_count": 22
        }
      ]
    },
    {
      "cell_type": "code",
      "metadata": {
        "colab": {
          "base_uri": "https://localhost:8080/"
        },
        "id": "3tibu7RPLwUJ",
        "outputId": "5f0d9b19-3b38-4e8a-fc54-becb2622c72f"
      },
      "source": [
        "# Convert normalized values back into array \n",
        "x_train_norm_arr = np.array(x_train_norm_df)\n",
        "x_train_norm_arr"
      ],
      "execution_count": null,
      "outputs": [
        {
          "output_type": "execute_result",
          "data": {
            "text/plain": [
              "array([[-0.29745691, -0.27801653,  2.08630886, ..., -1.42651124,\n",
              "         2.34092197, -1.25009244],\n",
              "       [ 0.50843578, -0.65389212,  1.164036  , ...,  0.18703477,\n",
              "         0.76453395,  2.67285687],\n",
              "       [ 1.02650964,  0.63482418,  0.49795004, ...,  0.05795109,\n",
              "        -0.11123717, -0.03584623],\n",
              "       ...,\n",
              "       [ 0.33574449, -0.17062351, -0.32184806, ...,  0.12249293,\n",
              "         0.99807292,  0.61797866],\n",
              "       [-0.58527572,  0.74221721, -1.14164616, ...,  0.57428581,\n",
              "        -0.16962191, -0.31605689],\n",
              "       [ 0.85381835, -1.51303633,  1.11279861, ...,  0.70336949,\n",
              "         1.40676611, -0.40946045]])"
            ]
          },
          "metadata": {},
          "execution_count": 23
        }
      ]
    },
    {
      "cell_type": "code",
      "metadata": {
        "colab": {
          "base_uri": "https://localhost:8080/"
        },
        "id": "n1HbA0ZlN8Gp",
        "outputId": "5ddeb3ee-344a-4ff2-a2ba-9c05cb7474c3"
      },
      "source": [
        "# Check x_test before normalization\n",
        "x_test"
      ],
      "execution_count": null,
      "outputs": [
        {
          "output_type": "execute_result",
          "data": {
            "text/plain": [
              "array([[ 5.6  ,  0.605,  0.05 , ...,  3.56 ,  0.55 , 12.9  ],\n",
              "       [ 8.6  ,  0.725,  0.24 , ...,  3.32 ,  1.07 ,  9.3  ],\n",
              "       [ 7.3  ,  0.39 ,  0.31 , ...,  3.41 ,  0.54 ,  9.4  ],\n",
              "       ...,\n",
              "       [10.4  ,  0.34 ,  0.58 , ...,  3.19 ,  0.7  , 11.3  ],\n",
              "       [ 8.6  ,  0.55 ,  0.09 , ...,  3.23 ,  0.44 , 10.   ],\n",
              "       [ 8.2  ,  0.34 ,  0.38 , ...,  3.3  ,  0.47 ,  9.   ]])"
            ]
          },
          "metadata": {},
          "execution_count": 24
        }
      ]
    },
    {
      "cell_type": "code",
      "metadata": {
        "colab": {
          "base_uri": "https://localhost:8080/",
          "height": 423
        },
        "id": "EMKRk7xwNZYF",
        "outputId": "fb86ea26-82e6-4c57-836f-ba2acd320778"
      },
      "source": [
        "# Make a dataframe from them\n",
        "\n",
        "x_test_df = pd.DataFrame(data=x_test, columns=winequality_red_df.columns[:-1])\n",
        "x_test_df"
      ],
      "execution_count": null,
      "outputs": [
        {
          "output_type": "execute_result",
          "data": {
            "text/html": [
              "<div>\n",
              "<style scoped>\n",
              "    .dataframe tbody tr th:only-of-type {\n",
              "        vertical-align: middle;\n",
              "    }\n",
              "\n",
              "    .dataframe tbody tr th {\n",
              "        vertical-align: top;\n",
              "    }\n",
              "\n",
              "    .dataframe thead th {\n",
              "        text-align: right;\n",
              "    }\n",
              "</style>\n",
              "<table border=\"1\" class=\"dataframe\">\n",
              "  <thead>\n",
              "    <tr style=\"text-align: right;\">\n",
              "      <th></th>\n",
              "      <th>fixed acidity</th>\n",
              "      <th>volatile acidity</th>\n",
              "      <th>citric acid</th>\n",
              "      <th>residual sugar</th>\n",
              "      <th>chlorides</th>\n",
              "      <th>free sulfur dioxide</th>\n",
              "      <th>total sulfur dioxide</th>\n",
              "      <th>density</th>\n",
              "      <th>pH</th>\n",
              "      <th>sulphates</th>\n",
              "      <th>alcohol</th>\n",
              "    </tr>\n",
              "  </thead>\n",
              "  <tbody>\n",
              "    <tr>\n",
              "      <th>0</th>\n",
              "      <td>5.6</td>\n",
              "      <td>0.605</td>\n",
              "      <td>0.05</td>\n",
              "      <td>2.4</td>\n",
              "      <td>0.073</td>\n",
              "      <td>19.0</td>\n",
              "      <td>25.0</td>\n",
              "      <td>0.99258</td>\n",
              "      <td>3.56</td>\n",
              "      <td>0.55</td>\n",
              "      <td>12.9</td>\n",
              "    </tr>\n",
              "    <tr>\n",
              "      <th>1</th>\n",
              "      <td>8.6</td>\n",
              "      <td>0.725</td>\n",
              "      <td>0.24</td>\n",
              "      <td>6.6</td>\n",
              "      <td>0.117</td>\n",
              "      <td>31.0</td>\n",
              "      <td>134.0</td>\n",
              "      <td>1.00140</td>\n",
              "      <td>3.32</td>\n",
              "      <td>1.07</td>\n",
              "      <td>9.3</td>\n",
              "    </tr>\n",
              "    <tr>\n",
              "      <th>2</th>\n",
              "      <td>7.3</td>\n",
              "      <td>0.390</td>\n",
              "      <td>0.31</td>\n",
              "      <td>2.4</td>\n",
              "      <td>0.074</td>\n",
              "      <td>9.0</td>\n",
              "      <td>46.0</td>\n",
              "      <td>0.99620</td>\n",
              "      <td>3.41</td>\n",
              "      <td>0.54</td>\n",
              "      <td>9.4</td>\n",
              "    </tr>\n",
              "    <tr>\n",
              "      <th>3</th>\n",
              "      <td>7.6</td>\n",
              "      <td>0.620</td>\n",
              "      <td>0.32</td>\n",
              "      <td>2.2</td>\n",
              "      <td>0.082</td>\n",
              "      <td>7.0</td>\n",
              "      <td>54.0</td>\n",
              "      <td>0.99660</td>\n",
              "      <td>3.36</td>\n",
              "      <td>0.52</td>\n",
              "      <td>9.4</td>\n",
              "    </tr>\n",
              "    <tr>\n",
              "      <th>4</th>\n",
              "      <td>7.0</td>\n",
              "      <td>0.380</td>\n",
              "      <td>0.49</td>\n",
              "      <td>2.5</td>\n",
              "      <td>0.097</td>\n",
              "      <td>33.0</td>\n",
              "      <td>85.0</td>\n",
              "      <td>0.99620</td>\n",
              "      <td>3.39</td>\n",
              "      <td>0.77</td>\n",
              "      <td>11.4</td>\n",
              "    </tr>\n",
              "    <tr>\n",
              "      <th>...</th>\n",
              "      <td>...</td>\n",
              "      <td>...</td>\n",
              "      <td>...</td>\n",
              "      <td>...</td>\n",
              "      <td>...</td>\n",
              "      <td>...</td>\n",
              "      <td>...</td>\n",
              "      <td>...</td>\n",
              "      <td>...</td>\n",
              "      <td>...</td>\n",
              "      <td>...</td>\n",
              "    </tr>\n",
              "    <tr>\n",
              "      <th>267</th>\n",
              "      <td>8.4</td>\n",
              "      <td>0.560</td>\n",
              "      <td>0.04</td>\n",
              "      <td>2.0</td>\n",
              "      <td>0.082</td>\n",
              "      <td>10.0</td>\n",
              "      <td>22.0</td>\n",
              "      <td>0.99760</td>\n",
              "      <td>3.22</td>\n",
              "      <td>0.44</td>\n",
              "      <td>9.6</td>\n",
              "    </tr>\n",
              "    <tr>\n",
              "      <th>268</th>\n",
              "      <td>7.5</td>\n",
              "      <td>0.520</td>\n",
              "      <td>0.11</td>\n",
              "      <td>1.5</td>\n",
              "      <td>0.079</td>\n",
              "      <td>11.0</td>\n",
              "      <td>39.0</td>\n",
              "      <td>0.99680</td>\n",
              "      <td>3.42</td>\n",
              "      <td>0.58</td>\n",
              "      <td>9.6</td>\n",
              "    </tr>\n",
              "    <tr>\n",
              "      <th>269</th>\n",
              "      <td>10.4</td>\n",
              "      <td>0.340</td>\n",
              "      <td>0.58</td>\n",
              "      <td>3.7</td>\n",
              "      <td>0.174</td>\n",
              "      <td>6.0</td>\n",
              "      <td>16.0</td>\n",
              "      <td>0.99700</td>\n",
              "      <td>3.19</td>\n",
              "      <td>0.70</td>\n",
              "      <td>11.3</td>\n",
              "    </tr>\n",
              "    <tr>\n",
              "      <th>270</th>\n",
              "      <td>8.6</td>\n",
              "      <td>0.550</td>\n",
              "      <td>0.09</td>\n",
              "      <td>3.3</td>\n",
              "      <td>0.068</td>\n",
              "      <td>8.0</td>\n",
              "      <td>17.0</td>\n",
              "      <td>0.99735</td>\n",
              "      <td>3.23</td>\n",
              "      <td>0.44</td>\n",
              "      <td>10.0</td>\n",
              "    </tr>\n",
              "    <tr>\n",
              "      <th>271</th>\n",
              "      <td>8.2</td>\n",
              "      <td>0.340</td>\n",
              "      <td>0.38</td>\n",
              "      <td>2.5</td>\n",
              "      <td>0.080</td>\n",
              "      <td>12.0</td>\n",
              "      <td>57.0</td>\n",
              "      <td>0.99780</td>\n",
              "      <td>3.30</td>\n",
              "      <td>0.47</td>\n",
              "      <td>9.0</td>\n",
              "    </tr>\n",
              "  </tbody>\n",
              "</table>\n",
              "<p>272 rows × 11 columns</p>\n",
              "</div>"
            ],
            "text/plain": [
              "     fixed acidity  volatile acidity  citric acid  ...    pH  sulphates  alcohol\n",
              "0              5.6             0.605         0.05  ...  3.56       0.55     12.9\n",
              "1              8.6             0.725         0.24  ...  3.32       1.07      9.3\n",
              "2              7.3             0.390         0.31  ...  3.41       0.54      9.4\n",
              "3              7.6             0.620         0.32  ...  3.36       0.52      9.4\n",
              "4              7.0             0.380         0.49  ...  3.39       0.77     11.4\n",
              "..             ...               ...          ...  ...   ...        ...      ...\n",
              "267            8.4             0.560         0.04  ...  3.22       0.44      9.6\n",
              "268            7.5             0.520         0.11  ...  3.42       0.58      9.6\n",
              "269           10.4             0.340         0.58  ...  3.19       0.70     11.3\n",
              "270            8.6             0.550         0.09  ...  3.23       0.44     10.0\n",
              "271            8.2             0.340         0.38  ...  3.30       0.47      9.0\n",
              "\n",
              "[272 rows x 11 columns]"
            ]
          },
          "metadata": {},
          "execution_count": 25
        }
      ]
    },
    {
      "cell_type": "code",
      "metadata": {
        "colab": {
          "base_uri": "https://localhost:8080/"
        },
        "id": "V8drpVVbOJyT",
        "outputId": "f9af8dce-46ed-42cc-cf0a-1357f8e04a71"
      },
      "source": [
        "# Normalize by using x_train's mean and std and convert it back into array\n",
        "x_test_norm_arr = np.array((x_test_df - x_train_df.mean())/x_train_df.std())\n",
        "x_test_norm_arr"
      ],
      "execution_count": null,
      "outputs": [
        {
          "output_type": "execute_result",
          "data": {
            "text/plain": [
              "array([[-1.56385969,  0.39318987, -1.14164616, ...,  1.60695526,\n",
              "        -0.63669984,  2.29924265],\n",
              "       [ 0.1630532 ,  1.03754803, -0.16813591, ...,  0.05795109,\n",
              "         2.39930671, -1.06328533],\n",
              "       [-0.58527572, -0.76128515,  0.19052575, ...,  0.63882765,\n",
              "        -0.69508458, -0.96988178],\n",
              "       ...,\n",
              "       [ 1.19920093, -1.02976771,  1.57393505, ..., -0.78109283,\n",
              "         0.23907128,  0.80478577],\n",
              "       [ 0.1630532 ,  0.09785905, -0.93669663, ..., -0.52292547,\n",
              "        -1.27893199, -0.40946045],\n",
              "       [-0.06720185, -1.02976771,  0.54918742, ..., -0.07113259,\n",
              "        -1.10377777, -1.343496  ]])"
            ]
          },
          "metadata": {},
          "execution_count": 26
        }
      ]
    },
    {
      "cell_type": "code",
      "metadata": {
        "colab": {
          "base_uri": "https://localhost:8080/"
        },
        "id": "r6uImAlWAlA4",
        "outputId": "9005c1d2-a1ad-49ae-97dc-db36bd8a9b91"
      },
      "source": [
        "# Another shorter method: using StandardScaler\n",
        "from sklearn.preprocessing import StandardScaler\n",
        "\n",
        "sc = StandardScaler()\n",
        "\n",
        "sc.fit_transform(x_train)"
      ],
      "execution_count": null,
      "outputs": [
        {
          "output_type": "execute_result",
          "data": {
            "text/plain": [
              "array([[-0.29759382, -0.27814451,  2.08726918, ..., -1.42716786,\n",
              "         2.3419995 , -1.25066786],\n",
              "       [ 0.50866981, -0.65419311,  1.1645718 , ...,  0.18712086,\n",
              "         0.76488587,  2.67408718],\n",
              "       [ 1.02698214,  0.63511639,  0.49817925, ...,  0.05797777,\n",
              "        -0.11128837, -0.03586273],\n",
              "       ...,\n",
              "       [ 0.33589903, -0.17070205, -0.3219962 , ...,  0.12254931,\n",
              "         0.99853233,  0.61826311],\n",
              "       [-0.58554512,  0.74255885, -1.14217165, ...,  0.57455016,\n",
              "        -0.16969998, -0.31620237],\n",
              "       [ 0.85421137, -1.51373277,  1.11331084, ...,  0.70369325,\n",
              "         1.40741364, -0.40964892]])"
            ]
          },
          "metadata": {},
          "execution_count": 27
        }
      ]
    },
    {
      "cell_type": "code",
      "metadata": {
        "colab": {
          "base_uri": "https://localhost:8080/"
        },
        "id": "TNOFVATnAlDs",
        "outputId": "cb34862a-e91f-4428-bb8c-b9cbdc8e8d36"
      },
      "source": [
        "sc.transform(x_test)"
      ],
      "execution_count": null,
      "outputs": [
        {
          "output_type": "execute_result",
          "data": {
            "text/plain": [
              "array([[-1.56457953,  0.39337086, -1.14217165, ...,  1.60769494,\n",
              "        -0.63699291,  2.30030099],\n",
              "       [ 0.16312825,  1.03802561, -0.16821331, ...,  0.05797777,\n",
              "         2.40041111, -1.06377476],\n",
              "       [-0.58554512, -0.76163557,  0.19061345, ...,  0.63912171,\n",
              "        -0.69540453, -0.97032821],\n",
              "       ...,\n",
              "       [ 1.19975292, -1.03024171,  1.57465953, ..., -0.78145237,\n",
              "         0.23918133,  0.80515621],\n",
              "       [ 0.16312825,  0.0979041 , -0.93712779, ..., -0.52316617,\n",
              "        -1.27952068, -0.40964892],\n",
              "       [-0.06723279, -1.03024171,  0.54944021, ..., -0.07116533,\n",
              "        -1.10428584, -1.34411441]])"
            ]
          },
          "metadata": {},
          "execution_count": 28
        }
      ]
    },
    {
      "cell_type": "markdown",
      "metadata": {
        "id": "e0mnH9DDj9-3"
      },
      "source": [
        "# 2. KNN regression\n",
        "\n",
        "- Implement naive K nearest neighbour regression as a function only using python and numpy. \n",
        "- Use Euclidean distance as a measure of distance.\n",
        "- Make prediction with k=20 for the test set using the training data.\n",
        "- Plot the true and the predicted values from the test set on a scatterplot.\n",
        "\n"
      ]
    },
    {
      "cell_type": "code",
      "metadata": {
        "id": "upl5GrI2AlG3"
      },
      "source": [
        "# KNN regression function\n",
        "def knn_regression(x_test, x_train, y_train, k=20):\n",
        "  y_pred = []\n",
        "  for i in range(len(x_test)):\n",
        "    # calculate distances between current test point and all train set points\n",
        "    distances = np.linalg.norm(x_train - x_test[i], axis=1)\n",
        "    # sort the train point distances and select the first k number of closest points to current test point\n",
        "    neighbors_ids = distances.argsort()[:k]\n",
        "    # find the target of these train points\n",
        "    neighbors_targets = y_train[neighbors_ids]\n",
        "    # calculate the mean of them -> predicted target of current test point\n",
        "    y_pred.append(neighbors_targets.mean())\n",
        "  return y_pred"
      ],
      "execution_count": null,
      "outputs": []
    },
    {
      "cell_type": "code",
      "metadata": {
        "colab": {
          "base_uri": "https://localhost:8080/"
        },
        "id": "363DT4hEH2qi",
        "outputId": "1eae82da-a22f-4008-d2d2-4c9bb01a9b97"
      },
      "source": [
        "# Run KNN regression function\n",
        "predicted_y_list = knn_regression(x_test_norm_arr, x_train_norm_arr, y_train_arr)\n",
        "predicted_y_list"
      ],
      "execution_count": null,
      "outputs": [
        {
          "output_type": "execute_result",
          "data": {
            "text/plain": [
              "[5.8,\n",
              " 5.05,\n",
              " 5.55,\n",
              " 5.3,\n",
              " 5.75,\n",
              " 5.45,\n",
              " 5.2,\n",
              " 6.4,\n",
              " 6.05,\n",
              " 6.0,\n",
              " 5.65,\n",
              " 5.6,\n",
              " 5.1,\n",
              " 5.45,\n",
              " 5.3,\n",
              " 5.45,\n",
              " 5.5,\n",
              " 5.35,\n",
              " 6.35,\n",
              " 5.45,\n",
              " 5.85,\n",
              " 6.35,\n",
              " 5.05,\n",
              " 6.65,\n",
              " 5.65,\n",
              " 5.35,\n",
              " 5.9,\n",
              " 5.9,\n",
              " 5.8,\n",
              " 5.1,\n",
              " 5.45,\n",
              " 5.25,\n",
              " 5.65,\n",
              " 5.8,\n",
              " 5.8,\n",
              " 5.35,\n",
              " 5.5,\n",
              " 5.3,\n",
              " 5.3,\n",
              " 5.4,\n",
              " 5.35,\n",
              " 5.65,\n",
              " 5.85,\n",
              " 6.15,\n",
              " 6.05,\n",
              " 5.3,\n",
              " 5.2,\n",
              " 5.45,\n",
              " 5.6,\n",
              " 5.95,\n",
              " 5.4,\n",
              " 5.6,\n",
              " 5.75,\n",
              " 5.75,\n",
              " 6.35,\n",
              " 5.45,\n",
              " 5.15,\n",
              " 6.65,\n",
              " 5.95,\n",
              " 5.4,\n",
              " 6.65,\n",
              " 5.7,\n",
              " 5.65,\n",
              " 5.1,\n",
              " 5.65,\n",
              " 5.55,\n",
              " 5.1,\n",
              " 5.45,\n",
              " 5.35,\n",
              " 4.95,\n",
              " 5.7,\n",
              " 5.5,\n",
              " 5.55,\n",
              " 5.55,\n",
              " 6.9,\n",
              " 5.55,\n",
              " 5.1,\n",
              " 5.8,\n",
              " 5.25,\n",
              " 6.3,\n",
              " 6.1,\n",
              " 5.85,\n",
              " 5.65,\n",
              " 5.35,\n",
              " 5.5,\n",
              " 5.7,\n",
              " 5.15,\n",
              " 6.3,\n",
              " 5.5,\n",
              " 5.7,\n",
              " 5.65,\n",
              " 6.2,\n",
              " 5.75,\n",
              " 5.3,\n",
              " 5.35,\n",
              " 5.4,\n",
              " 6.3,\n",
              " 6.65,\n",
              " 6.35,\n",
              " 5.4,\n",
              " 6.1,\n",
              " 5.7,\n",
              " 5.4,\n",
              " 5.35,\n",
              " 6.55,\n",
              " 5.25,\n",
              " 5.25,\n",
              " 6.25,\n",
              " 6.0,\n",
              " 5.55,\n",
              " 5.85,\n",
              " 6.15,\n",
              " 5.45,\n",
              " 5.15,\n",
              " 6.4,\n",
              " 6.15,\n",
              " 6.0,\n",
              " 5.25,\n",
              " 6.0,\n",
              " 5.2,\n",
              " 5.15,\n",
              " 5.45,\n",
              " 5.45,\n",
              " 5.15,\n",
              " 5.75,\n",
              " 5.75,\n",
              " 5.5,\n",
              " 5.5,\n",
              " 4.75,\n",
              " 5.95,\n",
              " 6.2,\n",
              " 6.3,\n",
              " 6.0,\n",
              " 6.1,\n",
              " 5.9,\n",
              " 5.2,\n",
              " 5.4,\n",
              " 5.4,\n",
              " 5.6,\n",
              " 5.5,\n",
              " 5.45,\n",
              " 4.8,\n",
              " 5.65,\n",
              " 6.5,\n",
              " 5.6,\n",
              " 5.5,\n",
              " 5.6,\n",
              " 5.3,\n",
              " 5.8,\n",
              " 5.1,\n",
              " 5.65,\n",
              " 5.7,\n",
              " 5.75,\n",
              " 5.4,\n",
              " 6.35,\n",
              " 5.75,\n",
              " 5.65,\n",
              " 6.1,\n",
              " 5.2,\n",
              " 5.1,\n",
              " 5.05,\n",
              " 5.75,\n",
              " 6.55,\n",
              " 5.35,\n",
              " 5.6,\n",
              " 5.45,\n",
              " 5.5,\n",
              " 6.25,\n",
              " 5.2,\n",
              " 6.0,\n",
              " 5.45,\n",
              " 5.8,\n",
              " 5.45,\n",
              " 5.9,\n",
              " 6.65,\n",
              " 6.3,\n",
              " 5.95,\n",
              " 5.35,\n",
              " 5.55,\n",
              " 5.4,\n",
              " 5.2,\n",
              " 5.4,\n",
              " 5.3,\n",
              " 5.15,\n",
              " 5.4,\n",
              " 5.25,\n",
              " 5.4,\n",
              " 6.15,\n",
              " 5.25,\n",
              " 5.3,\n",
              " 5.05,\n",
              " 5.2,\n",
              " 5.3,\n",
              " 5.85,\n",
              " 5.7,\n",
              " 5.45,\n",
              " 5.65,\n",
              " 5.25,\n",
              " 5.35,\n",
              " 5.4,\n",
              " 5.7,\n",
              " 5.4,\n",
              " 6.55,\n",
              " 5.3,\n",
              " 5.95,\n",
              " 6.15,\n",
              " 5.7,\n",
              " 6.45,\n",
              " 5.2,\n",
              " 5.25,\n",
              " 6.8,\n",
              " 5.3,\n",
              " 5.75,\n",
              " 6.75,\n",
              " 5.6,\n",
              " 5.65,\n",
              " 6.15,\n",
              " 5.5,\n",
              " 5.3,\n",
              " 5.65,\n",
              " 5.75,\n",
              " 5.1,\n",
              " 6.2,\n",
              " 5.25,\n",
              " 6.55,\n",
              " 5.15,\n",
              " 5.75,\n",
              " 5.9,\n",
              " 6.5,\n",
              " 5.45,\n",
              " 5.3,\n",
              " 5.15,\n",
              " 5.15,\n",
              " 6.05,\n",
              " 5.2,\n",
              " 5.7,\n",
              " 5.05,\n",
              " 6.15,\n",
              " 5.45,\n",
              " 5.4,\n",
              " 6.25,\n",
              " 5.85,\n",
              " 5.5,\n",
              " 5.3,\n",
              " 5.8,\n",
              " 6.45,\n",
              " 5.3,\n",
              " 5.5,\n",
              " 6.6,\n",
              " 5.75,\n",
              " 6.4,\n",
              " 5.1,\n",
              " 5.75,\n",
              " 6.7,\n",
              " 5.2,\n",
              " 5.4,\n",
              " 5.35,\n",
              " 5.6,\n",
              " 6.15,\n",
              " 5.55,\n",
              " 5.8,\n",
              " 5.9,\n",
              " 5.15,\n",
              " 5.3,\n",
              " 5.4,\n",
              " 5.35,\n",
              " 5.3,\n",
              " 5.6,\n",
              " 5.8,\n",
              " 6.3,\n",
              " 5.6,\n",
              " 5.35]"
            ]
          },
          "metadata": {},
          "execution_count": 34
        }
      ]
    },
    {
      "cell_type": "code",
      "metadata": {
        "colab": {
          "base_uri": "https://localhost:8080/",
          "height": 766
        },
        "id": "zwmZq4lxKSfq",
        "outputId": "7076e645-1570-4227-e2a9-b029586f2d7d"
      },
      "source": [
        "plt.figure(figsize=(10, 12))\n",
        "plt.title('Predicted and real target data', fontsize=30)\n",
        "plt.xlabel('Samples', fontsize=15)\n",
        "plt.ylabel('Quality', fontsize=15)\n",
        "plt.scatter([i for i in range(len(predicted_y_list))], predicted_y_list, label='predicted')\n",
        "plt.scatter([i for i in range(len(y_test_arr))], y_test_arr, c='red', label='real')\n",
        "plt.legend(fontsize=12)"
      ],
      "execution_count": null,
      "outputs": [
        {
          "output_type": "execute_result",
          "data": {
            "text/plain": [
              "<matplotlib.legend.Legend at 0x7f429a855a50>"
            ]
          },
          "metadata": {},
          "execution_count": 35
        },
        {
          "output_type": "display_data",
          "data": {
            "image/png": "[encoded data removed]",
            "text/plain": [
              "<Figure size 720x864 with 1 Axes>"
            ]
          },
          "metadata": {
            "needs_background": "light"
          }
        }
      ]
    },
    {
      "cell_type": "markdown",
      "metadata": {
        "id": "j0kGDhvhXMQS"
      },
      "source": [
        "# 3. Weighted KNN regression\n",
        "- Modify the knn_regression function by adding a weight to each neighbor that is inversely proportional to the distance.\n",
        "- Make prediction with k=20 for the test set using the training data.\n",
        "- Plot the true and the predicted values from the test set on a scatterplot."
      ]
    },
    {
      "cell_type": "code",
      "metadata": {
        "id": "mrndrSlSXxr9"
      },
      "source": [
        "def knn_weighted_regression(x_test,x_train,y_train,k=20):\n",
        "    y_pred = []\n",
        "    for i in range(len(x_test)):\n",
        "      # calculate distances between current test point and all train set points\n",
        "      distances = np.linalg.norm(x_train - x_test[i], axis=1)\n",
        "      # sort the train point distances and select the first k number of closest points to current test point\n",
        "      neighbors_ids = distances.argsort()[:k]\n",
        "      # find the target of these train points\n",
        "      neighbors_targets = y_train[neighbors_ids]\n",
        "      # Calculate their weights by using distances\n",
        "      weight_list = [1/distance for distance in distances[neighbors_ids]]\n",
        "      # Compute weight-based average -> predicted target(y_pred)\n",
        "      y = sum([w*neighbors_targets[idx] for idx, w in enumerate(weight_list)])/sum(weight_list)\n",
        "      y_pred.append(y)\n",
        "    return y_pred"
      ],
      "execution_count": null,
      "outputs": []
    },
    {
      "cell_type": "code",
      "metadata": {
        "id": "07JI4LZJXxxC",
        "colab": {
          "base_uri": "https://localhost:8080/"
        },
        "outputId": "6c1d5873-6978-4a20-d245-fb39ee3fcabf"
      },
      "source": [
        "# Run knn_weighted_regression\n",
        "y_wpred_list = knn_weighted_regression(x_test_norm_arr, x_train_norm_arr, y_train_arr)\n",
        "y_wpred_list = [y[0] for y in y_wpred_list]\n",
        "y_wpred_list"
      ],
      "execution_count": null,
      "outputs": [
        {
          "output_type": "execute_result",
          "data": {
            "text/plain": [
              "[5.796990510378187,\n",
              " 5.042251809656621,\n",
              " 5.53250883078435,\n",
              " 5.277818124303685,\n",
              " 5.718267982022476,\n",
              " 5.540562189497476,\n",
              " 5.1881324675190506,\n",
              " 6.422506374623573,\n",
              " 6.038389759887745,\n",
              " 5.976994067853191,\n",
              " 5.636982319921639,\n",
              " 5.596565243184118,\n",
              " 5.086612659919399,\n",
              " 5.413647099585963,\n",
              " 5.282603585714757,\n",
              " 5.458971055852396,\n",
              " 5.476918867557942,\n",
              " 5.357853605834301,\n",
              " 6.345553770081878,\n",
              " 5.452233447086351,\n",
              " 5.82652247581663,\n",
              " 6.33597354399352,\n",
              " 5.0648944331222925,\n",
              " 6.614139118117322,\n",
              " 5.627130941221268,\n",
              " 5.316599824565597,\n",
              " 5.927913495898718,\n",
              " 5.878330470310038,\n",
              " 5.812144244001202,\n",
              " 5.105809960708099,\n",
              " 5.445671938773823,\n",
              " 5.227131465134871,\n",
              " 5.617977547436937,\n",
              " 5.846048243603977,\n",
              " 5.795173598566555,\n",
              " 5.354743618295843,\n",
              " 5.47583116607771,\n",
              " 5.283580736046253,\n",
              " 5.268671426406056,\n",
              " 5.352226517047885,\n",
              " 5.320158209559242,\n",
              " 5.6552042133495535,\n",
              " 5.849910344824544,\n",
              " 6.153117450876543,\n",
              " 6.076704316194565,\n",
              " 5.30580285833947,\n",
              " 5.181365240892418,\n",
              " 5.353990631746236,\n",
              " 5.6005365906343085,\n",
              " 6.001869655196168,\n",
              " 5.379655202780444,\n",
              " 5.623360554368798,\n",
              " 5.746749232422528,\n",
              " 5.7725009251289805,\n",
              " 6.438576014136614,\n",
              " 5.446330127607322,\n",
              " 5.147111269572626,\n",
              " 6.594361460494042,\n",
              " 5.914608469795674,\n",
              " 5.368781805163094,\n",
              " 6.647266127356351,\n",
              " 5.769719828892804,\n",
              " 5.678542596350615,\n",
              " 5.116130366602251,\n",
              " 5.646788423026095,\n",
              " 5.515083818263027,\n",
              " 5.108966268447775,\n",
              " 5.311506405773055,\n",
              " 5.274876530479932,\n",
              " 4.948612721889922,\n",
              " 5.697928068435748,\n",
              " 5.509655211551025,\n",
              " 5.519932517602862,\n",
              " 5.540618515305257,\n",
              " 6.895990883118521,\n",
              " 5.564074284024684,\n",
              " 5.08042189874329,\n",
              " 5.806341188134474,\n",
              " 5.286837002937912,\n",
              " 6.314877793394442,\n",
              " 6.124587587578384,\n",
              " 5.820593909665963,\n",
              " 5.750690731389392,\n",
              " 5.3874038060991865,\n",
              " 5.524523966453013,\n",
              " 5.712785731306193,\n",
              " 5.136408919002986,\n",
              " 6.345839635933991,\n",
              " 5.572133319974069,\n",
              " 5.68292125283688,\n",
              " 5.68317538480459,\n",
              " 6.1936275835153465,\n",
              " 5.729358299945255,\n",
              " 5.2826132268791115,\n",
              " 5.314033871488562,\n",
              " 5.300079874051307,\n",
              " 6.298906061962502,\n",
              " 6.651616276824782,\n",
              " 6.373660825381078,\n",
              " 5.432127765342218,\n",
              " 6.091763689006248,\n",
              " 5.779894935532856,\n",
              " 5.365385664960464,\n",
              " 5.370138221142554,\n",
              " 6.557123698298114,\n",
              " 5.241529778955486,\n",
              " 5.28113429363323,\n",
              " 6.279680468657876,\n",
              " 5.980915796542095,\n",
              " 5.572536613640475,\n",
              " 5.876403431585737,\n",
              " 6.139583549994622,\n",
              " 5.473289822782713,\n",
              " 5.131010615364319,\n",
              " 6.417239019351412,\n",
              " 6.1577476135926235,\n",
              " 6.002679526446118,\n",
              " 5.233669867014668,\n",
              " 6.012310334153542,\n",
              " 5.2143436816217825,\n",
              " 5.054082524225725,\n",
              " 5.476914670014261,\n",
              " 5.432414840907492,\n",
              " 5.124727008534611,\n",
              " 5.78782611097033,\n",
              " 5.793573564354035,\n",
              " 5.492088064495142,\n",
              " 5.517492242820496,\n",
              " 4.76713679027851,\n",
              " 5.9237306669412915,\n",
              " 6.198359419913375,\n",
              " 6.342876972634168,\n",
              " 6.018940182406869,\n",
              " 6.1062276565868965,\n",
              " 5.869954310755503,\n",
              " 5.1928255844833116,\n",
              " 5.411390860836413,\n",
              " 5.398941046087513,\n",
              " 5.560728323019104,\n",
              " 5.407167790635469,\n",
              " 5.512752422196849,\n",
              " 4.796964897868898,\n",
              " 5.644639104722551,\n",
              " 6.51892243260584,\n",
              " 5.5974395616673895,\n",
              " 5.422206013815748,\n",
              " 5.61220161744,\n",
              " 5.917584006631019,\n",
              " 5.785205615439304,\n",
              " 5.098425136162953,\n",
              " 5.677999153941946,\n",
              " 5.721237612877866,\n",
              " 5.791921148528405,\n",
              " 5.404354445888679,\n",
              " 6.332273094424547,\n",
              " 5.632518344620581,\n",
              " 5.62499218147614,\n",
              " 6.108949459374154,\n",
              " 5.175828272114683,\n",
              " 5.088071257359624,\n",
              " 5.043487223634156,\n",
              " 5.764123402289331,\n",
              " 6.56750869881849,\n",
              " 5.316573798292669,\n",
              " 5.614093198008138,\n",
              " 5.449591108299917,\n",
              " 5.513820757694977,\n",
              " 6.309722532490638,\n",
              " 5.138464606567031,\n",
              " 5.981964447454184,\n",
              " 5.4219622750445025,\n",
              " 5.795098380482304,\n",
              " 5.464168877846409,\n",
              " 5.8989203450781105,\n",
              " 6.939453825261407,\n",
              " 6.269949985632003,\n",
              " 5.9801959267083715,\n",
              " 5.340829968315901,\n",
              " 5.533620021271437,\n",
              " 5.421633000639461,\n",
              " 5.177087900824249,\n",
              " 5.424386692851726,\n",
              " 5.288400424057435,\n",
              " 5.099779864619701,\n",
              " 5.407986867028031,\n",
              " 5.250345747400938,\n",
              " 5.4049880892842035,\n",
              " 6.149608833550331,\n",
              " 5.275366435881276,\n",
              " 5.283502269169298,\n",
              " 5.055761781968798,\n",
              " 5.167117571066094,\n",
              " 5.2772477780806275,\n",
              " 5.8430370292985705,\n",
              " 5.705849792841749,\n",
              " 5.412271898005676,\n",
              " 5.665683720159183,\n",
              " 5.254769927570364,\n",
              " 5.3212527871031785,\n",
              " 5.391050092603966,\n",
              " 5.667664302671198,\n",
              " 5.385989516336483,\n",
              " 6.5813577002930295,\n",
              " 5.328695843962892,\n",
              " 5.931586897095982,\n",
              " 6.150475931907617,\n",
              " 5.723187821247121,\n",
              " 6.569385844588699,\n",
              " 5.096127223576699,\n",
              " 5.409495907008245,\n",
              " 6.872489229078581,\n",
              " 5.299107802285327,\n",
              " 5.729074673974602,\n",
              " 6.769336999349434,\n",
              " 5.57926742092916,\n",
              " 5.651718833274817,\n",
              " 6.161604435006239,\n",
              " 5.471809361304184,\n",
              " 5.282064393969309,\n",
              " 5.670157277680713,\n",
              " 5.751743870411383,\n",
              " 5.102926912632486,\n",
              " 6.1901052454400105,\n",
              " 5.2486031739442724,\n",
              " 6.4955458101872585,\n",
              " 5.129313333368114,\n",
              " 5.792959449183635,\n",
              " 5.9142829161810155,\n",
              " 6.4867895904796375,\n",
              " 5.416858313411849,\n",
              " 5.311473152961439,\n",
              " 5.152584593474506,\n",
              " 5.178213548368147,\n",
              " 6.053612088306475,\n",
              " 5.193342471952124,\n",
              " 5.64031562266792,\n",
              " 5.065986345390055,\n",
              " 6.168302133659529,\n",
              " 5.400764209970678,\n",
              " 5.435011989181534,\n",
              " 6.241643097400056,\n",
              " 5.873066563905607,\n",
              " 5.484415948928713,\n",
              " 5.315302675547954,\n",
              " 5.7642215859242985,\n",
              " 6.460374863698668,\n",
              " 5.289869889844561,\n",
              " 5.472661046293131,\n",
              " 6.565798560670462,\n",
              " 5.77330899699202,\n",
              " 6.472331687858566,\n",
              " 5.079410446363746,\n",
              " 5.714802300817825,\n",
              " 6.705631308790273,\n",
              " 5.182970359748036,\n",
              " 5.375537051222524,\n",
              " 5.324442801781764,\n",
              " 5.600871232050513,\n",
              " 6.152302280224203,\n",
              " 5.5517008730001045,\n",
              " 5.791734529751579,\n",
              " 5.90822329370662,\n",
              " 5.145966438886636,\n",
              " 5.305811415403336,\n",
              " 5.388062431148531,\n",
              " 5.31567017499282,\n",
              " 5.3016755899631915,\n",
              " 5.618716645268008,\n",
              " 5.848168386283312,\n",
              " 6.2945525386168715,\n",
              " 5.596744348875177,\n",
              " 5.29597185784653]"
            ]
          },
          "metadata": {},
          "execution_count": 49
        }
      ]
    },
    {
      "cell_type": "code",
      "metadata": {
        "colab": {
          "base_uri": "https://localhost:8080/",
          "height": 758
        },
        "id": "WNViz9NuIPGO",
        "outputId": "5cfbfbfd-e8e3-452d-953f-df05435c44d3"
      },
      "source": [
        "# Plot knn_weighted predicted y values and the real one\n",
        "\n",
        "plt.figure(figsize=(10, 12))\n",
        "plt.title('Predicted and real qualties basen on distance weighted KNN', fontsize=20)\n",
        "plt.xlabel('Sample', fontsize=15)\n",
        "plt.ylabel('Quality', fontsize=15)\n",
        "\n",
        "plt.scatter([id for id in range(len(y_test))], y_wpred_list, label='predicted')\n",
        "plt.scatter([id for id in range(len(y_test))], y_test, label='real')\n",
        "plt.legend(fontsize=(13))"
      ],
      "execution_count": null,
      "outputs": [
        {
          "output_type": "execute_result",
          "data": {
            "text/plain": [
              "<matplotlib.legend.Legend at 0x7f429a1dfdd0>"
            ]
          },
          "metadata": {},
          "execution_count": 48
        },
        {
          "output_type": "display_data",
          "data": {
            "image/png": "[encoded data removed]",
            "text/plain": [
              "<Figure size 720x864 with 1 Axes>"
            ]
          },
          "metadata": {
            "needs_background": "light"
          }
        }
      ]
    },
    {
      "cell_type": "markdown",
      "metadata": {
        "id": "o0jtwdLiKXlp"
      },
      "source": [
        "# 4. KNN classification\n",
        "\n",
        "- Implement the K-nearest neighbors classification algorithm using only pure Python3 and numpy! Use L2 distance to find the neighbors. The prediction for each class should be the number of neighbors supporting the given class divided by k (for example if k is 5 and we have 3 neighbors for class A, 2 for class B and 0 for class C neighbors, then the prediction for class A should be 3/5, for class B 2/5, for class C 0/5). Use the one-hot encoded labels!\n",
        "- Make prediction with k=20 for the test set using the training data."
      ]
    },
    {
      "cell_type": "code",
      "metadata": {
        "id": "--FdiECxXx3G"
      },
      "source": [
        "def knn_classifier(x_test, x_train, y_train, k=20):\n",
        "  y_pred = []\n",
        "  for i in range(len(x_test)):\n",
        "      # calculate distances between current test point and all train set points\n",
        "      distances = np.linalg.norm(x_train - x_test[i], axis=1)\n",
        "      # sort the train point distances and select the first k number of closest points to current test point\n",
        "      neighbors_ids = distances.argsort()[:k]\n",
        "      # find the target of these train points\n",
        "      neighbors_targets = y_train[neighbors_ids]\n",
        "      #print(neighbors_targets)\n",
        "      # Decode the one hot encoded numbers\n",
        "      neighbors_targets_dec = [np.argmax(target) + 3 for target in neighbors_targets]\n",
        "      #print(neighbors_targets_dec)\n",
        "      # Count the occurrences of all targets and make a dictionary: {target : occurence}\n",
        "      targets, targets_occurrences = np.unique(neighbors_targets_dec, return_counts=True)\n",
        "      targets_occurrences_dict = dict(zip(targets, targets_occurrences))\n",
        "      #print(targets_occurrences_dict)\n",
        "      # Compute probability of all possible targets(3-8)\n",
        "      target_probability_list = []\n",
        "      for target in range(3, 9):\n",
        "        # If the target exists in dictionary calculate its probability\n",
        "        if target in list(targets_occurrences_dict.keys()):\n",
        "          probability = targets_occurrences_dict[target]/k\n",
        "          target_probability_list.append(probability)\n",
        "        elif target not in list(targets_occurrences_dict.keys()):\n",
        "          target_probability_list.append(0)\n",
        "    # Add the target probability list to result list (y_pred)\n",
        "      y_pred.append(target_probability_list)\n",
        "\n",
        "  return y_pred\n"
      ],
      "execution_count": null,
      "outputs": []
    },
    {
      "cell_type": "code",
      "metadata": {
        "colab": {
          "base_uri": "https://localhost:8080/"
        },
        "id": "nJvxIuLYcdzZ",
        "outputId": "a8391d84-da48-4dac-9a8a-2035335f393c"
      },
      "source": [
        "y_pred_classes_list = knn_classifier(x_test_norm_arr, x_train_norm_arr, y_train_hot)\n",
        "y_pred_classes_list"
      ],
      "execution_count": null,
      "outputs": [
        {
          "output_type": "execute_result",
          "data": {
            "text/plain": [
              "[[0, 0, 0.3, 0.6, 0.1, 0],\n",
              " [0, 0, 0.95, 0.05, 0, 0],\n",
              " [0, 0.05, 0.4, 0.5, 0.05, 0],\n",
              " [0, 0.15, 0.45, 0.35, 0.05, 0],\n",
              " [0, 0, 0.4, 0.45, 0.15, 0],\n",
              " [0, 0, 0.65, 0.25, 0.1, 0],\n",
              " [0, 0.05, 0.75, 0.15, 0.05, 0],\n",
              " [0, 0, 0.05, 0.55, 0.35, 0.05],\n",
              " [0, 0, 0.2, 0.55, 0.25, 0],\n",
              " [0, 0, 0.25, 0.5, 0.25, 0],\n",
              " [0, 0.05, 0.35, 0.5, 0.1, 0],\n",
              " [0, 0, 0.45, 0.5, 0.05, 0],\n",
              " [0, 0, 0.9, 0.1, 0, 0],\n",
              " [0, 0.05, 0.45, 0.5, 0, 0],\n",
              " [0, 0, 0.7, 0.3, 0, 0],\n",
              " [0, 0, 0.55, 0.45, 0, 0],\n",
              " [0, 0.05, 0.5, 0.35, 0.1, 0],\n",
              " [0, 0, 0.7, 0.25, 0.05, 0],\n",
              " [0, 0, 0.05, 0.6, 0.3, 0.05],\n",
              " [0, 0.05, 0.45, 0.5, 0, 0],\n",
              " [0, 0, 0.2, 0.75, 0.05, 0],\n",
              " [0, 0, 0.05, 0.6, 0.3, 0.05],\n",
              " [0, 0.15, 0.65, 0.2, 0, 0],\n",
              " [0, 0, 0, 0.4, 0.55, 0.05],\n",
              " [0.05, 0.05, 0.25, 0.5, 0.15, 0],\n",
              " [0, 0.25, 0.15, 0.6, 0, 0],\n",
              " [0, 0, 0.35, 0.4, 0.25, 0],\n",
              " [0, 0, 0.45, 0.2, 0.35, 0],\n",
              " [0, 0, 0.25, 0.7, 0.05, 0],\n",
              " [0, 0, 0.9, 0.1, 0, 0],\n",
              " [0, 0, 0.65, 0.25, 0.1, 0],\n",
              " [0, 0.1, 0.55, 0.35, 0, 0],\n",
              " [0, 0, 0.4, 0.55, 0.05, 0],\n",
              " [0, 0, 0.4, 0.45, 0.1, 0.05],\n",
              " [0, 0, 0.3, 0.6, 0.1, 0],\n",
              " [0, 0.05, 0.6, 0.3, 0.05, 0],\n",
              " [0, 0, 0.5, 0.5, 0, 0],\n",
              " [0, 0, 0.7, 0.3, 0, 0],\n",
              " [0, 0.15, 0.45, 0.35, 0.05, 0],\n",
              " [0, 0, 0.65, 0.3, 0.05, 0],\n",
              " [0, 0.05, 0.6, 0.3, 0.05, 0],\n",
              " [0, 0, 0.4, 0.55, 0.05, 0],\n",
              " [0, 0.05, 0.2, 0.6, 0.15, 0],\n",
              " [0, 0, 0.2, 0.5, 0.25, 0.05],\n",
              " [0, 0, 0.2, 0.55, 0.25, 0],\n",
              " [0, 0.05, 0.6, 0.35, 0, 0],\n",
              " [0.05, 0.25, 0.3, 0.25, 0.15, 0],\n",
              " [0, 0, 0.6, 0.35, 0.05, 0],\n",
              " [0, 0.05, 0.4, 0.45, 0.1, 0],\n",
              " [0, 0, 0.2, 0.65, 0.15, 0],\n",
              " [0, 0, 0.6, 0.4, 0, 0],\n",
              " [0, 0, 0.5, 0.4, 0.1, 0],\n",
              " [0, 0, 0.4, 0.45, 0.15, 0],\n",
              " [0, 0, 0.35, 0.55, 0.1, 0],\n",
              " [0, 0.05, 0.05, 0.4, 0.5, 0],\n",
              " [0, 0.2, 0.25, 0.45, 0.1, 0],\n",
              " [0, 0.05, 0.75, 0.2, 0, 0],\n",
              " [0, 0, 0.05, 0.35, 0.5, 0.1],\n",
              " [0, 0, 0.25, 0.6, 0.1, 0.05],\n",
              " [0, 0.2, 0.2, 0.6, 0, 0],\n",
              " [0, 0, 0.1, 0.25, 0.55, 0.1],\n",
              " [0, 0, 0.4, 0.5, 0.1, 0],\n",
              " [0, 0, 0.4, 0.55, 0.05, 0],\n",
              " [0.05, 0, 0.75, 0.2, 0, 0],\n",
              " [0, 0, 0.4, 0.55, 0.05, 0],\n",
              " [0, 0, 0.5, 0.45, 0.05, 0],\n",
              " [0, 0.05, 0.8, 0.15, 0, 0],\n",
              " [0, 0.05, 0.45, 0.5, 0, 0],\n",
              " [0, 0.05, 0.55, 0.4, 0, 0],\n",
              " [0, 0.1, 0.85, 0.05, 0, 0],\n",
              " [0, 0, 0.35, 0.6, 0.05, 0],\n",
              " [0, 0, 0.55, 0.4, 0.05, 0],\n",
              " [0, 0, 0.45, 0.55, 0, 0],\n",
              " [0, 0, 0.45, 0.55, 0, 0],\n",
              " [0, 0, 0, 0.25, 0.6, 0.15],\n",
              " [0.05, 0.05, 0.35, 0.4, 0.15, 0],\n",
              " [0, 0, 0.9, 0.1, 0, 0],\n",
              " [0, 0, 0.3, 0.6, 0.1, 0],\n",
              " [0, 0.15, 0.45, 0.4, 0, 0],\n",
              " [0, 0, 0.15, 0.4, 0.45, 0],\n",
              " [0, 0.05, 0.25, 0.25, 0.45, 0],\n",
              " [0, 0, 0.3, 0.55, 0.15, 0],\n",
              " [0, 0, 0.45, 0.45, 0.1, 0],\n",
              " [0, 0.05, 0.55, 0.4, 0, 0],\n",
              " [0, 0.1, 0.35, 0.5, 0.05, 0],\n",
              " [0, 0.05, 0.25, 0.65, 0.05, 0],\n",
              " [0, 0, 0.85, 0.15, 0, 0],\n",
              " [0, 0, 0.05, 0.6, 0.35, 0],\n",
              " [0, 0.15, 0.25, 0.55, 0.05, 0],\n",
              " [0, 0, 0.4, 0.5, 0.1, 0],\n",
              " [0, 0.05, 0.25, 0.7, 0, 0],\n",
              " [0, 0, 0.1, 0.6, 0.3, 0],\n",
              " [0, 0, 0.4, 0.45, 0.15, 0],\n",
              " [0, 0, 0.75, 0.2, 0.05, 0],\n",
              " [0, 0.05, 0.55, 0.4, 0, 0],\n",
              " [0, 0.05, 0.55, 0.35, 0.05, 0],\n",
              " [0, 0, 0.05, 0.65, 0.25, 0.05],\n",
              " [0, 0, 0, 0.4, 0.55, 0.05],\n",
              " [0, 0, 0.1, 0.45, 0.45, 0],\n",
              " [0, 0, 0.65, 0.3, 0.05, 0],\n",
              " [0, 0, 0.15, 0.6, 0.25, 0],\n",
              " [0, 0, 0.4, 0.5, 0.1, 0],\n",
              " [0, 0.05, 0.55, 0.35, 0.05, 0],\n",
              " [0.05, 0.05, 0.45, 0.4, 0.05, 0],\n",
              " [0, 0, 0, 0.5, 0.45, 0.05],\n",
              " [0, 0, 0.75, 0.25, 0, 0],\n",
              " [0, 0.05, 0.65, 0.3, 0, 0],\n",
              " [0, 0, 0.1, 0.6, 0.25, 0.05],\n",
              " [0, 0.05, 0.1, 0.7, 0.1, 0.05],\n",
              " [0, 0.05, 0.45, 0.4, 0.1, 0],\n",
              " [0, 0, 0.25, 0.65, 0.1, 0],\n",
              " [0, 0, 0.2, 0.5, 0.25, 0.05],\n",
              " [0, 0.05, 0.5, 0.4, 0.05, 0],\n",
              " [0, 0, 0.85, 0.15, 0, 0],\n",
              " [0, 0, 0.05, 0.55, 0.35, 0.05],\n",
              " [0, 0, 0.05, 0.75, 0.2, 0],\n",
              " [0, 0, 0.2, 0.6, 0.2, 0],\n",
              " [0, 0, 0.75, 0.25, 0, 0],\n",
              " [0, 0, 0.25, 0.5, 0.25, 0],\n",
              " [0, 0.1, 0.6, 0.3, 0, 0],\n",
              " [0, 0.2, 0.45, 0.35, 0, 0],\n",
              " [0, 0, 0.55, 0.45, 0, 0],\n",
              " [0, 0.2, 0.3, 0.35, 0.15, 0],\n",
              " [0, 0, 0.85, 0.15, 0, 0],\n",
              " [0, 0, 0.35, 0.55, 0.1, 0],\n",
              " [0, 0, 0.25, 0.75, 0, 0],\n",
              " [0, 0.05, 0.5, 0.35, 0.1, 0],\n",
              " [0, 0, 0.55, 0.4, 0.05, 0],\n",
              " [0.05, 0.2, 0.7, 0.05, 0, 0],\n",
              " [0, 0, 0.35, 0.4, 0.2, 0.05],\n",
              " [0, 0, 0.15, 0.55, 0.25, 0.05],\n",
              " [0, 0, 0.1, 0.5, 0.4, 0],\n",
              " [0, 0, 0.3, 0.4, 0.3, 0],\n",
              " [0, 0, 0.2, 0.55, 0.2, 0.05],\n",
              " [0, 0.05, 0.35, 0.25, 0.35, 0],\n",
              " [0, 0, 0.8, 0.2, 0, 0],\n",
              " [0, 0.1, 0.4, 0.5, 0, 0],\n",
              " [0, 0, 0.6, 0.4, 0, 0],\n",
              " [0, 0.1, 0.3, 0.5, 0.1, 0],\n",
              " [0, 0, 0.5, 0.5, 0, 0],\n",
              " [0, 0, 0.6, 0.35, 0.05, 0],\n",
              " [0, 0.25, 0.7, 0.05, 0, 0],\n",
              " [0, 0, 0.45, 0.45, 0.1, 0],\n",
              " [0, 0, 0.1, 0.4, 0.4, 0.1],\n",
              " [0, 0.05, 0.35, 0.55, 0.05, 0],\n",
              " [0, 0.05, 0.4, 0.55, 0, 0],\n",
              " [0.05, 0, 0.35, 0.5, 0.1, 0],\n",
              " [0, 0, 0.7, 0.3, 0, 0],\n",
              " [0, 0.1, 0.2, 0.5, 0.2, 0],\n",
              " [0, 0, 0.95, 0, 0.05, 0],\n",
              " [0, 0, 0.45, 0.45, 0.1, 0],\n",
              " [0, 0.05, 0.5, 0.15, 0.3, 0],\n",
              " [0, 0, 0.35, 0.55, 0.1, 0],\n",
              " [0, 0.05, 0.5, 0.45, 0, 0],\n",
              " [0, 0, 0.05, 0.6, 0.3, 0.05],\n",
              " [0, 0.1, 0.25, 0.45, 0.2, 0],\n",
              " [0, 0, 0.4, 0.55, 0.05, 0],\n",
              " [0, 0, 0.2, 0.5, 0.3, 0],\n",
              " [0, 0.1, 0.6, 0.3, 0, 0],\n",
              " [0, 0, 0.9, 0.1, 0, 0],\n",
              " [0, 0, 0.95, 0.05, 0, 0],\n",
              " [0.05, 0, 0.2, 0.65, 0.1, 0],\n",
              " [0, 0, 0, 0.5, 0.45, 0.05],\n",
              " [0, 0.05, 0.6, 0.3, 0.05, 0],\n",
              " [0, 0, 0.4, 0.6, 0, 0],\n",
              " [0, 0, 0.55, 0.45, 0, 0],\n",
              " [0.05, 0, 0.35, 0.6, 0, 0],\n",
              " [0, 0, 0.15, 0.5, 0.3, 0.05],\n",
              " [0, 0.1, 0.6, 0.3, 0, 0],\n",
              " [0, 0, 0.15, 0.7, 0.15, 0],\n",
              " [0, 0, 0.6, 0.35, 0.05, 0],\n",
              " [0, 0.1, 0.2, 0.5, 0.2, 0],\n",
              " [0, 0, 0.55, 0.45, 0, 0],\n",
              " [0, 0, 0.25, 0.6, 0.15, 0],\n",
              " [0, 0, 0.1, 0.3, 0.45, 0.15],\n",
              " [0, 0, 0.1, 0.5, 0.4, 0],\n",
              " [0, 0.05, 0.25, 0.45, 0.2, 0.05],\n",
              " [0, 0, 0.65, 0.35, 0, 0],\n",
              " [0, 0.05, 0.45, 0.4, 0.1, 0],\n",
              " [0, 0.05, 0.5, 0.45, 0, 0],\n",
              " [0, 0.05, 0.75, 0.15, 0.05, 0],\n",
              " [0, 0.05, 0.5, 0.45, 0, 0],\n",
              " [0, 0, 0.7, 0.3, 0, 0],\n",
              " [0.1, 0.05, 0.5, 0.3, 0.05, 0],\n",
              " [0, 0, 0.6, 0.4, 0, 0],\n",
              " [0, 0.1, 0.65, 0.15, 0.1, 0],\n",
              " [0, 0.1, 0.4, 0.5, 0, 0],\n",
              " [0, 0, 0.1, 0.65, 0.25, 0],\n",
              " [0, 0.05, 0.65, 0.3, 0, 0],\n",
              " [0, 0, 0.7, 0.3, 0, 0],\n",
              " [0, 0.05, 0.85, 0.1, 0, 0],\n",
              " [0, 0, 0.8, 0.2, 0, 0],\n",
              " [0, 0.05, 0.6, 0.35, 0, 0],\n",
              " [0, 0, 0.25, 0.65, 0.1, 0],\n",
              " [0, 0, 0.35, 0.6, 0.05, 0],\n",
              " [0, 0.05, 0.45, 0.5, 0, 0],\n",
              " [0, 0, 0.4, 0.55, 0.05, 0],\n",
              " [0, 0.05, 0.7, 0.2, 0.05, 0],\n",
              " [0, 0, 0.65, 0.35, 0, 0],\n",
              " [0, 0, 0.6, 0.4, 0, 0],\n",
              " [0, 0.05, 0.3, 0.55, 0.1, 0],\n",
              " [0, 0, 0.65, 0.3, 0.05, 0],\n",
              " [0, 0.05, 0.05, 0.35, 0.4, 0.15],\n",
              " [0, 0, 0.7, 0.3, 0, 0],\n",
              " [0, 0, 0.25, 0.6, 0.1, 0.05],\n",
              " [0, 0, 0.2, 0.5, 0.25, 0.05],\n",
              " [0, 0, 0.35, 0.6, 0.05, 0],\n",
              " [0, 0, 0.05, 0.5, 0.4, 0.05],\n",
              " [0, 0, 0.8, 0.2, 0, 0],\n",
              " [0, 0.05, 0.7, 0.2, 0.05, 0],\n",
              " [0, 0, 0.05, 0.15, 0.75, 0.05],\n",
              " [0, 0.05, 0.6, 0.35, 0, 0],\n",
              " [0, 0, 0.4, 0.45, 0.15, 0],\n",
              " [0, 0, 0.05, 0.2, 0.7, 0.05],\n",
              " [0, 0, 0.45, 0.5, 0.05, 0],\n",
              " [0, 0.1, 0.3, 0.45, 0.15, 0],\n",
              " [0, 0, 0.1, 0.65, 0.25, 0],\n",
              " [0, 0.05, 0.5, 0.35, 0.1, 0],\n",
              " [0, 0.2, 0.4, 0.3, 0.1, 0],\n",
              " [0, 0, 0.45, 0.45, 0.1, 0],\n",
              " [0, 0, 0.35, 0.55, 0.1, 0],\n",
              " [0, 0, 0.9, 0.1, 0, 0],\n",
              " [0, 0, 0.15, 0.5, 0.35, 0],\n",
              " [0, 0, 0.75, 0.25, 0, 0],\n",
              " [0, 0, 0.05, 0.45, 0.4, 0.1],\n",
              " [0, 0, 0.85, 0.15, 0, 0],\n",
              " [0, 0.05, 0.35, 0.45, 0.1, 0.05],\n",
              " [0, 0, 0.35, 0.4, 0.25, 0],\n",
              " [0, 0, 0.05, 0.5, 0.35, 0.1],\n",
              " [0, 0, 0.55, 0.45, 0, 0],\n",
              " [0, 0.05, 0.7, 0.15, 0.1, 0],\n",
              " [0, 0, 0.85, 0.15, 0, 0],\n",
              " [0, 0.15, 0.55, 0.3, 0, 0],\n",
              " [0, 0, 0.15, 0.65, 0.2, 0],\n",
              " [0, 0, 0.8, 0.2, 0, 0],\n",
              " [0, 0.15, 0.2, 0.45, 0.2, 0],\n",
              " [0, 0.15, 0.7, 0.1, 0.05, 0],\n",
              " [0, 0, 0.2, 0.45, 0.35, 0],\n",
              " [0, 0, 0.6, 0.35, 0.05, 0],\n",
              " [0, 0.05, 0.55, 0.35, 0.05, 0],\n",
              " [0, 0, 0.15, 0.45, 0.4, 0],\n",
              " [0, 0, 0.3, 0.55, 0.15, 0],\n",
              " [0, 0.05, 0.5, 0.35, 0.1, 0],\n",
              " [0, 0.1, 0.55, 0.3, 0.05, 0],\n",
              " [0, 0, 0.3, 0.6, 0.1, 0],\n",
              " [0, 0.05, 0.15, 0.2, 0.5, 0.1],\n",
              " [0, 0, 0.7, 0.3, 0, 0],\n",
              " [0, 0.05, 0.4, 0.55, 0, 0],\n",
              " [0, 0, 0, 0.45, 0.5, 0.05],\n",
              " [0, 0, 0.35, 0.55, 0.1, 0],\n",
              " [0, 0.05, 0.05, 0.45, 0.35, 0.1],\n",
              " [0, 0.05, 0.8, 0.15, 0, 0],\n",
              " [0, 0, 0.4, 0.5, 0.05, 0.05],\n",
              " [0, 0.05, 0, 0.2, 0.7, 0.05],\n",
              " [0, 0, 0.8, 0.2, 0, 0],\n",
              " [0, 0, 0.6, 0.4, 0, 0],\n",
              " [0, 0, 0.65, 0.35, 0, 0],\n",
              " [0, 0, 0.5, 0.4, 0.1, 0],\n",
              " [0, 0, 0.1, 0.65, 0.25, 0],\n",
              " [0, 0.05, 0.4, 0.5, 0.05, 0],\n",
              " [0, 0, 0.35, 0.5, 0.15, 0],\n",
              " [0, 0, 0.25, 0.6, 0.15, 0],\n",
              " [0, 0, 0.85, 0.15, 0, 0],\n",
              " [0, 0.05, 0.6, 0.35, 0, 0],\n",
              " [0.05, 0, 0.45, 0.5, 0, 0],\n",
              " [0, 0, 0.7, 0.25, 0.05, 0],\n",
              " [0, 0, 0.7, 0.3, 0, 0],\n",
              " [0, 0.05, 0.35, 0.55, 0.05, 0],\n",
              " [0, 0, 0.3, 0.6, 0.1, 0],\n",
              " [0, 0, 0.2, 0.35, 0.4, 0.05],\n",
              " [0, 0, 0.45, 0.5, 0.05, 0],\n",
              " [0, 0.05, 0.6, 0.3, 0.05, 0]]"
            ]
          },
          "metadata": {},
          "execution_count": 40
        }
      ]
    },
    {
      "cell_type": "code",
      "metadata": {
        "id": "mieBTf_hq4K7"
      },
      "source": [
        "def knn_classify(pred_list):\n",
        "  return [np.argmax(prob_list) + 3 for prob_list in pred_list]"
      ],
      "execution_count": null,
      "outputs": []
    },
    {
      "cell_type": "code",
      "metadata": {
        "colab": {
          "base_uri": "https://localhost:8080/"
        },
        "id": "gkc0qN6Iq4NE",
        "outputId": "00e56f30-0253-4348-f669-ecb82ff55a47"
      },
      "source": [
        "y_pred_class_list = knn_classify(y_pred_classes_list)\n",
        "y_pred_class_list"
      ],
      "execution_count": null,
      "outputs": [
        {
          "output_type": "execute_result",
          "data": {
            "text/plain": [
              "[6,\n",
              " 5,\n",
              " 6,\n",
              " 5,\n",
              " 6,\n",
              " 5,\n",
              " 5,\n",
              " 6,\n",
              " 6,\n",
              " 6,\n",
              " 6,\n",
              " 6,\n",
              " 5,\n",
              " 6,\n",
              " 5,\n",
              " 5,\n",
              " 5,\n",
              " 5,\n",
              " 6,\n",
              " 6,\n",
              " 6,\n",
              " 6,\n",
              " 5,\n",
              " 7,\n",
              " 6,\n",
              " 6,\n",
              " 6,\n",
              " 5,\n",
              " 6,\n",
              " 5,\n",
              " 5,\n",
              " 5,\n",
              " 6,\n",
              " 6,\n",
              " 6,\n",
              " 5,\n",
              " 5,\n",
              " 5,\n",
              " 5,\n",
              " 5,\n",
              " 5,\n",
              " 6,\n",
              " 6,\n",
              " 6,\n",
              " 6,\n",
              " 5,\n",
              " 5,\n",
              " 5,\n",
              " 6,\n",
              " 6,\n",
              " 5,\n",
              " 5,\n",
              " 6,\n",
              " 6,\n",
              " 7,\n",
              " 6,\n",
              " 5,\n",
              " 7,\n",
              " 6,\n",
              " 6,\n",
              " 7,\n",
              " 6,\n",
              " 6,\n",
              " 5,\n",
              " 6,\n",
              " 5,\n",
              " 5,\n",
              " 6,\n",
              " 5,\n",
              " 5,\n",
              " 6,\n",
              " 5,\n",
              " 6,\n",
              " 6,\n",
              " 7,\n",
              " 6,\n",
              " 5,\n",
              " 6,\n",
              " 5,\n",
              " 7,\n",
              " 7,\n",
              " 6,\n",
              " 5,\n",
              " 5,\n",
              " 6,\n",
              " 6,\n",
              " 5,\n",
              " 6,\n",
              " 6,\n",
              " 6,\n",
              " 6,\n",
              " 6,\n",
              " 6,\n",
              " 5,\n",
              " 5,\n",
              " 5,\n",
              " 6,\n",
              " 7,\n",
              " 6,\n",
              " 5,\n",
              " 6,\n",
              " 6,\n",
              " 5,\n",
              " 5,\n",
              " 6,\n",
              " 5,\n",
              " 5,\n",
              " 6,\n",
              " 6,\n",
              " 5,\n",
              " 6,\n",
              " 6,\n",
              " 5,\n",
              " 5,\n",
              " 6,\n",
              " 6,\n",
              " 6,\n",
              " 5,\n",
              " 6,\n",
              " 5,\n",
              " 5,\n",
              " 5,\n",
              " 6,\n",
              " 5,\n",
              " 6,\n",
              " 6,\n",
              " 5,\n",
              " 5,\n",
              " 5,\n",
              " 6,\n",
              " 6,\n",
              " 6,\n",
              " 6,\n",
              " 6,\n",
              " 5,\n",
              " 5,\n",
              " 6,\n",
              " 5,\n",
              " 6,\n",
              " 5,\n",
              " 5,\n",
              " 5,\n",
              " 5,\n",
              " 6,\n",
              " 6,\n",
              " 6,\n",
              " 6,\n",
              " 5,\n",
              " 6,\n",
              " 5,\n",
              " 5,\n",
              " 5,\n",
              " 6,\n",
              " 5,\n",
              " 6,\n",
              " 6,\n",
              " 6,\n",
              " 6,\n",
              " 5,\n",
              " 5,\n",
              " 5,\n",
              " 6,\n",
              " 6,\n",
              " 5,\n",
              " 6,\n",
              " 5,\n",
              " 6,\n",
              " 6,\n",
              " 5,\n",
              " 6,\n",
              " 5,\n",
              " 6,\n",
              " 5,\n",
              " 6,\n",
              " 7,\n",
              " 6,\n",
              " 6,\n",
              " 5,\n",
              " 5,\n",
              " 5,\n",
              " 5,\n",
              " 5,\n",
              " 5,\n",
              " 5,\n",
              " 5,\n",
              " 5,\n",
              " 6,\n",
              " 6,\n",
              " 5,\n",
              " 5,\n",
              " 5,\n",
              " 5,\n",
              " 5,\n",
              " 6,\n",
              " 6,\n",
              " 6,\n",
              " 6,\n",
              " 5,\n",
              " 5,\n",
              " 5,\n",
              " 6,\n",
              " 5,\n",
              " 7,\n",
              " 5,\n",
              " 6,\n",
              " 6,\n",
              " 6,\n",
              " 6,\n",
              " 5,\n",
              " 5,\n",
              " 7,\n",
              " 5,\n",
              " 6,\n",
              " 7,\n",
              " 6,\n",
              " 6,\n",
              " 6,\n",
              " 5,\n",
              " 5,\n",
              " 5,\n",
              " 6,\n",
              " 5,\n",
              " 6,\n",
              " 5,\n",
              " 6,\n",
              " 5,\n",
              " 6,\n",
              " 6,\n",
              " 6,\n",
              " 5,\n",
              " 5,\n",
              " 5,\n",
              " 5,\n",
              " 6,\n",
              " 5,\n",
              " 6,\n",
              " 5,\n",
              " 6,\n",
              " 5,\n",
              " 5,\n",
              " 6,\n",
              " 6,\n",
              " 5,\n",
              " 5,\n",
              " 6,\n",
              " 7,\n",
              " 5,\n",
              " 6,\n",
              " 7,\n",
              " 6,\n",
              " 6,\n",
              " 5,\n",
              " 6,\n",
              " 7,\n",
              " 5,\n",
              " 5,\n",
              " 5,\n",
              " 5,\n",
              " 6,\n",
              " 6,\n",
              " 6,\n",
              " 6,\n",
              " 5,\n",
              " 5,\n",
              " 6,\n",
              " 5,\n",
              " 5,\n",
              " 6,\n",
              " 6,\n",
              " 7,\n",
              " 6,\n",
              " 5]"
            ]
          },
          "metadata": {},
          "execution_count": 42
        }
      ]
    },
    {
      "cell_type": "markdown",
      "metadata": {
        "id": "YYRIi_mKpqQL"
      },
      "source": [
        "# 5. Compare the models\n",
        "\n",
        "- Make a baseline model: this can be the mean value of the training labels for every sample.\n",
        "- Compare the regression and classification models to the baseline: You can do this by rounding the continous predictions of the regression to the nearest integer. Calculate the accuracy (fraction of correctly classified samples) of the models.\n",
        "- Check your KNN implementations by running the sklearn built-in model. You can run it for any model you implented. The predictions should be the same as yours.\n",
        "- Write down your observations."
      ]
    },
    {
      "cell_type": "markdown",
      "metadata": {
        "id": "JqRIzaGewQo5"
      },
      "source": [
        "For classification the **mode** can be used as a baseline"
      ]
    },
    {
      "cell_type": "code",
      "metadata": {
        "colab": {
          "base_uri": "https://localhost:8080/"
        },
        "id": "wxySUqzOppgw",
        "outputId": "8f447d83-23d7-433e-e2ca-a72ceb39a8eb"
      },
      "source": [
        "# Build baseline model\n",
        "\n",
        "# 1. find the mode of quality types in training set\n",
        "mode_quality = statistics.mode(y_train)\n",
        "\n",
        "# 2. build a model that contains only the mode with the length of test set\n",
        "y_pred_base = [5] * len(y_test)\n",
        "\n",
        "# 3. Calculate its accurancy score\n",
        "score = accuracy_score(y_test, y_pred_base)\n",
        "\n",
        "print('The mode: {}\\nThe accuracy of baseline model: {:.0%}'.format(mode_quality, score))"
      ],
      "execution_count": null,
      "outputs": [
        {
          "output_type": "stream",
          "name": "stdout",
          "text": [
            "The mode: 5\n",
            "The accuracy of baseline model: 42%\n"
          ]
        }
      ]
    },
    {
      "cell_type": "code",
      "metadata": {
        "colab": {
          "base_uri": "https://localhost:8080/"
        },
        "id": "YIroeqwXppkG",
        "outputId": "b7353a46-1674-4ae1-9f4a-03dcecc09798"
      },
      "source": [
        "# Run accuracy test for other models as well\n",
        "\n",
        "# 1. KNN regression\n",
        "mode_quality_knn = statistics.mode(np.round(predicted_y_list))\n",
        "knn_regr_score = accuracy_score(y_test, np.round(predicted_y_list))\n",
        "\n",
        "# 2. Weighted KNN regression\n",
        "mode_quality_wknn = statistics.mode(np.round(y_wpred_list))\n",
        "wknn_regr_score = accuracy_score(y_test, np.round(y_wpred_list))\n",
        "\n",
        "# 3. KNN classification\n",
        "mode_quality_knnc = statistics.mode(y_pred_class_list)\n",
        "knn_classif_score = accuracy_score(y_test, y_pred_class_list)\n",
        "\n",
        "print('1. KNN regression:\\nMode: {}\\nAccuracy: {}'.format(mode_quality_knn, knn_regr_score))\n",
        "print('\\n2. Weighted KNN regression:\\nMode: {}\\nAccuracy: {}'.format(mode_quality_wknn, wknn_regr_score))\n",
        "print('\\n3. KNN classification:\\nMode: {}\\nAccuracy: {}'.format(mode_quality_knnc, knn_classif_score))"
      ],
      "execution_count": null,
      "outputs": [
        {
          "output_type": "stream",
          "name": "stdout",
          "text": [
            "1. KNN regression:\n",
            "Mode: 6.0\n",
            "Accuracy: 0.6066176470588235\n",
            "\n",
            "2. Weighted KNN regression:\n",
            "Mode: 6.0\n",
            "Accuracy: 0.6139705882352942\n",
            "\n",
            "3. KNN classification:\n",
            "Mode: 6\n",
            "Accuracy: 0.5735294117647058\n"
          ]
        }
      ]
    },
    {
      "cell_type": "code",
      "metadata": {
        "id": "Tifkf5x8Kxn6"
      },
      "source": [
        ""
      ],
      "execution_count": null,
      "outputs": []
    },
    {
      "cell_type": "markdown",
      "metadata": {
        "id": "rmyUPYzwDoqK"
      },
      "source": [
        "## Check your KNN implementations by running the sklearn built-in model. "
      ]
    },
    {
      "cell_type": "code",
      "metadata": {
        "colab": {
          "base_uri": "https://localhost:8080/"
        },
        "id": "GPScodSALCLy",
        "outputId": "8edac17f-712b-4c6f-dc1c-2b64e1a68206"
      },
      "source": [
        "knn = KNeighborsClassifier(20)\n",
        "knn.fit(x_train, y_train)\n",
        "sklearn_knn_class = knn.predict(x_test)\n",
        "\n",
        "sklearn_knn_class_mode = Counter(sklearn_knn_class).most_common()[0]\n",
        "sklearn_knn_class_score = accuracy_score(y_test, sklearn_knn_class)\n",
        "print('\\n4. KNN classification by using sklearn:\\nMode: {}\\nAccuracy: {}'.format(sklearn_knn_class_mode, sklearn_knn_class_score))"
      ],
      "execution_count": null,
      "outputs": [
        {
          "output_type": "stream",
          "name": "stdout",
          "text": [
            "\n",
            "4. KNN classification by using sklearn:\n",
            "Mode: (5, 147)\n",
            "Accuracy: 0.5183823529411765\n"
          ]
        }
      ]
    },
    {
      "cell_type": "code",
      "metadata": {
        "id": "MkvON0pOLCTD"
      },
      "source": [
        ""
      ],
      "execution_count": null,
      "outputs": []
    },
    {
      "cell_type": "markdown",
      "metadata": {
        "id": "OWpVZNYyGvjs"
      },
      "source": [
        "All in all we can say that the KNN method really works well in both cases when we use it for either classification or regression to find out the target/class of a new incoming data/points by using only the features of new data compared to training set data. Thus similar attracts similar concepts performs well to answer scientific questions. \n",
        "However the weighted KNN has done the best, since it's logical the more similar (closer) points have a higher impact on the new point. \n",
        "Must mention KNN classification can be used with discrete space while KNN regression with continouse space. \n",
        "In this case the KNN regression (weighted) achieved better accuracy than the KNN classification despite the target (quality) was discrete and not continous, but the cause of this should be that the predicted values of KNN regression were rounded to the closest integer which helped the better prediction. "
      ]
    },
    {
      "cell_type": "code",
      "metadata": {
        "id": "z5_gyE7YI0zZ"
      },
      "source": [
        ""
      ],
      "execution_count": null,
      "outputs": []
    },
    {
      "cell_type": "code",
      "metadata": {
        "id": "Pk7Q7FFgI04j"
      },
      "source": [
        ""
      ],
      "execution_count": null,
      "outputs": []
    },
    {
      "cell_type": "code",
      "metadata": {
        "id": "fpLgB4IcI07r"
      },
      "source": [
        ""
      ],
      "execution_count": null,
      "outputs": []
    },
    {
      "cell_type": "code",
      "metadata": {
        "id": "2uX4ynpZI0-9"
      },
      "source": [
        ""
      ],
      "execution_count": null,
      "outputs": []
    },
    {
      "cell_type": "code",
      "metadata": {
        "id": "TfaSDz18I1Bh"
      },
      "source": [
        ""
      ],
      "execution_count": null,
      "outputs": []
    },
    {
      "cell_type": "code",
      "metadata": {
        "id": "SIvTTKJCI1EY"
      },
      "source": [
        ""
      ],
      "execution_count": null,
      "outputs": []
    },
    {
      "cell_type": "code",
      "metadata": {
        "id": "BVZOJGt_I1IH"
      },
      "source": [
        ""
      ],
      "execution_count": null,
      "outputs": []
    }
  ]
}